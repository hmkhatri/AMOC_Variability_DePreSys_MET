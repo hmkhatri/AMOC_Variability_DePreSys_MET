{
 "cells": [
  {
   "cell_type": "code",
   "execution_count": 1,
   "id": "760e4d7e-5621-406f-95aa-1f45dc2da63f",
   "metadata": {},
   "outputs": [],
   "source": [
    "import numpy as np\n",
    "import matplotlib.pyplot as plt\n",
    "import matplotlib.animation as animation"
   ]
  },
  {
   "cell_type": "code",
   "execution_count": 10,
   "id": "0f38fca5-2361-4f86-81d1-03573a9f5f81",
   "metadata": {},
   "outputs": [
    {
     "data": {
      "text/plain": [
       "[<matplotlib.lines.Line2D at 0x7fbd18863490>]"
      ]
     },
     "execution_count": 10,
     "metadata": {},
     "output_type": "execute_result"
    },
    {
     "data": {
      "image/png": "[encoded data removed]",
      "text/plain": [
       "<Figure size 1080x360 with 1 Axes>"
      ]
     },
     "metadata": {},
     "output_type": "display_data"
    }
   ],
   "source": [
    "plt.style.use(\"seaborn\")\n",
    "fig, axes = plt.subplots(nrows = 1, ncols = 1, figsize = (15,5))\n",
    "plt.axhline(y = 5.0, color = 'k', linestyle = '--')\n",
    "plt.axhline(y = 11.2, color = 'k', linestyle = '--')\n",
    "plt.axhline(y = 21.3, color = 'k', linestyle = '--')\n",
    "plt.axhline(y = 38.0, color = 'k', linestyle = '--')\n",
    "axes.set_ylim(0,55)\n",
    "axes.set_xlim(2000,2100)\n",
    "\n",
    "axes.plot(x1,y1, color='#fc8d62', linewidth=1.0)    \n",
    "axes.plot(x1,y2, color='#8da0cb', linewidth=1.0)"
   ]
  },
  {
   "cell_type": "code",
   "execution_count": 5,
   "id": "57780e25-b84f-43cb-a9e7-bb288fcdeef4",
   "metadata": {},
   "outputs": [],
   "source": [
    "x1,y1,y2 = [], [], []\n",
    "def animate(i):\n",
    "    \n",
    "    x1.append(2000+i)\n",
    "    y1.append(i)\n",
    "    y2.append(i*2)"
   ]
  },
  {
   "cell_type": "code",
   "execution_count": 6,
   "id": "4ae3f429-4510-46d5-85c1-a2ed9ee6ff3d",
   "metadata": {},
   "outputs": [],
   "source": [
    "animate(1)\n",
    "animate(2)"
   ]
  },
  {
   "cell_type": "code",
   "execution_count": 18,
   "id": "e9835847-7567-4a06-b0d7-63088570277f",
   "metadata": {},
   "outputs": [],
   "source": [
    "x1,y1,y2 = [], [], []\n",
    "def animate(i, x1, y1, y2, ax):\n",
    "    \n",
    "    x1.append(2000+i)\n",
    "    y1.append(i)\n",
    "    y2.append(i*2)\n",
    "   \n",
    "    ax.plot(x1,y1, color='#fc8d62', linewidth=1.0)    \n",
    "    ax.plot(x1,y2, color='#8da0cb', linewidth=1.0)"
   ]
  },
  {
   "cell_type": "code",
   "execution_count": 13,
   "id": "55f70916-012a-4316-bcd2-a128a99f4c37",
   "metadata": {},
   "outputs": [
    {
     "ename": "NameError",
     "evalue": "name 'FuncAnimation' is not defined",
     "output_type": "error",
     "traceback": [
      "\u001b[0;31m---------------------------------------------------------------------------\u001b[0m",
      "\u001b[0;31mNameError\u001b[0m                                 Traceback (most recent call last)",
      "\u001b[0;32m/tmp/ipykernel_594/1285831886.py\u001b[0m in \u001b[0;36m<module>\u001b[0;34m\u001b[0m\n\u001b[1;32m      8\u001b[0m \u001b[0maxes\u001b[0m\u001b[0;34m.\u001b[0m\u001b[0mset_xlim\u001b[0m\u001b[0;34m(\u001b[0m\u001b[0;36m2000\u001b[0m\u001b[0;34m,\u001b[0m\u001b[0;36m2100\u001b[0m\u001b[0;34m)\u001b[0m\u001b[0;34m\u001b[0m\u001b[0;34m\u001b[0m\u001b[0m\n\u001b[1;32m      9\u001b[0m \u001b[0;34m\u001b[0m\u001b[0m\n\u001b[0;32m---> 10\u001b[0;31m \u001b[0manim\u001b[0m \u001b[0;34m=\u001b[0m \u001b[0mFuncAnimation\u001b[0m\u001b[0;34m(\u001b[0m\u001b[0mfig\u001b[0m\u001b[0;34m,\u001b[0m \u001b[0manimate\u001b[0m\u001b[0;34m,\u001b[0m \u001b[0minterval\u001b[0m\u001b[0;34m=\u001b[0m\u001b[0;36m100\u001b[0m\u001b[0;34m)\u001b[0m\u001b[0;34m\u001b[0m\u001b[0;34m\u001b[0m\u001b[0m\n\u001b[0m\u001b[1;32m     11\u001b[0m \u001b[0mf\u001b[0m \u001b[0;34m=\u001b[0m \u001b[0;34mr\"./animation.gif\"\u001b[0m\u001b[0;34m\u001b[0m\u001b[0;34m\u001b[0m\u001b[0m\n\u001b[1;32m     12\u001b[0m \u001b[0mwritergif\u001b[0m \u001b[0;34m=\u001b[0m \u001b[0manimation\u001b[0m\u001b[0;34m.\u001b[0m\u001b[0mPillowWriter\u001b[0m\u001b[0;34m(\u001b[0m\u001b[0mfps\u001b[0m\u001b[0;34m=\u001b[0m\u001b[0;36m30\u001b[0m\u001b[0;34m)\u001b[0m\u001b[0;34m\u001b[0m\u001b[0;34m\u001b[0m\u001b[0m\n",
      "\u001b[0;31mNameError\u001b[0m: name 'FuncAnimation' is not defined"
     ]
    },
    {
     "data": {
      "image/png": "[encoded data removed]",
      "text/plain": [
       "<Figure size 1080x360 with 1 Axes>"
      ]
     },
     "metadata": {},
     "output_type": "display_data"
    }
   ],
   "source": [
    "plt.style.use(\"seaborn\")\n",
    "fig, axes = plt.subplots(nrows = 1, ncols = 1, figsize = (15,5))\n",
    "plt.axhline(y = 5.0, color = 'k', linestyle = '--')\n",
    "plt.axhline(y = 11.2, color = 'k', linestyle = '--')\n",
    "plt.axhline(y = 21.3, color = 'k', linestyle = '--')\n",
    "plt.axhline(y = 38.0, color = 'k', linestyle = '--')\n",
    "axes.set_ylim(0,55)\n",
    "axes.set_xlim(2000,2100)\n",
    "\n",
    "anim = FuncAnimation(fig, animate, interval=100)\n",
    "f = r\"./animation.gif\" \n",
    "writergif = animation.PillowWriter(fps=30) \n",
    "anim.save(f, writer=writergif)"
   ]
  },
  {
   "cell_type": "code",
   "execution_count": 6,
   "id": "ea98e5b9-f940-47f0-8c42-553c2fddb27f",
   "metadata": {},
   "outputs": [
    {
     "name": "stderr",
     "output_type": "stream",
     "text": [
      "/tmp/ipykernel_953/375170672.py:38: UserWarning: This figure includes Axes that are not compatible with tight_layout, so results might be incorrect.\n",
      "  plt.tight_layout()\n"
     ]
    },
    {
     "data": {
      "text/plain": [
       "<Figure size 1296x504 with 0 Axes>"
      ]
     },
     "metadata": {},
     "output_type": "display_data"
    }
   ],
   "source": [
    "import matplotlib.animation as manimation\n",
    "import matplotlib.pyplot as plt\n",
    "\n",
    "#FFMpegWriter = manimation.writers['ffmpeg']\n",
    "metadata = dict(title='SST and SSH', artist='Matplotlib',\n",
    "                comment='Surface anomaly fields from JRA55 forced global simulation')\n",
    "writer = manimation.FFMpegWriter(fps=3, metadata=metadata)\n",
    "\n",
    "grid1 = plt.GridSpec(1, 1, wspace=0.1, hspace=0.1)\n",
    "fig = plt.figure(figsize=[18,7])\n",
    "\n",
    "fig.patch.set_facecolor('white')\n",
    "                      \n",
    "plt.style.use(\"seaborn\")\n",
    "\n",
    "x1,y1,y2 = [], [], []\n",
    "\n",
    "with writer.saving(fig, \"./SST_SSH.gif\", 300):\n",
    "    \n",
    "    for i in range(0,10):\n",
    "    \n",
    "        x1.append(2000+i)\n",
    "        y1.append(i)\n",
    "        y2.append(i*2)\n",
    "        \n",
    "        ax = fig.add_subplot(grid1[0, 0])\n",
    "\n",
    "        ax.plot(x1,y1, color='#fc8d62', linewidth=1.0)    \n",
    "        ax.plot(x1,y2, color='#8da0cb', linewidth=1.0)\n",
    "\n",
    "        plt.axhline(y = 5.0, color = 'k', linestyle = '--')\n",
    "        plt.axhline(y = 11.2, color = 'k', linestyle = '--')\n",
    "        plt.axhline(y = 21.3, color = 'k', linestyle = '--')\n",
    "        plt.axhline(y = 38.0, color = 'k', linestyle = '--')\n",
    "        #ax.set_ylim(0,55)\n",
    "        #ax.set_xlim(2000,2100)\n",
    "        \n",
    "        plt.tight_layout()\n",
    "        \n",
    "        writer.grab_frame()\n",
    "        \n",
    "        ax.remove()"
   ]
  },
  {
   "cell_type": "code",
   "execution_count": 25,
   "id": "47e89275-b485-4289-ac2d-bc46daa8587c",
   "metadata": {},
   "outputs": [],
   "source": [
    "grid1 = plt.GridSpec(1, 1, wspace=0.1, hspace=0.1)\n",
    "\n",
    "fig.patch.set_facecolor('white')\n",
    "\n",
    "ax = fig.add_subplot(grid1[0, 0])\n",
    "\n",
    "\n",
    "        ax.plot(x1,y1, color='#fc8d62', linewidth=1.0)    \n",
    "        ax.plot(x1,y2, color='#8da0cb', linewidth=1.0)\n",
    "\n",
    "        ax = fig.add_subplot(grid1[0, 0])\n",
    "        plt.axhline(y = 5.0, color = 'k', linestyle = '--')\n",
    "        plt.axhline(y = 11.2, color = 'k', linestyle = '--')\n",
    "        plt.axhline(y = 21.3, color = 'k', linestyle = '--')\n",
    "        plt.axhline(y = 38.0, color = 'k', linestyle = '--')"
   ]
  },
  {
   "cell_type": "code",
   "execution_count": null,
   "id": "55daedc9-ce5d-478e-b909-5279e0bf6d59",
   "metadata": {},
   "outputs": [],
   "source": []
  }
 ],
 "metadata": {
  "kernelspec": {
   "display_name": "miniconda",
   "language": "python",
   "name": "miniconda"
  },
  "language_info": {
   "codemirror_mode": {
    "name": "ipython",
    "version": 3
   },
   "file_extension": ".py",
   "mimetype": "text/x-python",
   "name": "python",
   "nbconvert_exporter": "python",
   "pygments_lexer": "ipython3",
   "version": "3.9.7"
  }
 },
 "nbformat": 4,
 "nbformat_minor": 5
}
