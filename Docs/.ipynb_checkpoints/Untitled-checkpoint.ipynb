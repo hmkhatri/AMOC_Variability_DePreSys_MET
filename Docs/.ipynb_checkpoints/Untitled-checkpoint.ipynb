{
 "cells": [
  {
   "cell_type": "markdown",
   "id": "617a2452",
   "metadata": {},
   "source": [
    "## DePreSys4 Data on CEDA\n",
    "\n",
    "The notebook lists the available variables from DePreSys4 hindcast data on CEDA server. This data can be accessed through jasmin."
   ]
  },
  {
   "cell_type": "markdown",
   "id": "72f0df29",
   "metadata": {},
   "source": [
    "### Ocean Variables\n",
    "\n",
    "The following ocean variables (monthly-averaged) are avaialble.\n",
    "\n"
   ]
  }
 ],
 "metadata": {
  "kernelspec": {
   "display_name": "Python 3",
   "language": "python",
   "name": "python3"
  },
  "language_info": {
   "codemirror_mode": {
    "name": "ipython",
    "version": 3
   },
   "file_extension": ".py",
   "mimetype": "text/x-python",
   "name": "python",
   "nbconvert_exporter": "python",
   "pygments_lexer": "ipython3",
   "version": "3.7.11"
  }
 },
 "nbformat": 4,
 "nbformat_minor": 5
}
