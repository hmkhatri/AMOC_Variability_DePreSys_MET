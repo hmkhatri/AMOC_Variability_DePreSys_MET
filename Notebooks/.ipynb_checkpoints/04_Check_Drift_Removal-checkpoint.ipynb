{
 "cells": [
  {
   "cell_type": "markdown",
   "id": "99b01d87-9064-4b6d-a9c5-8441b8744d90",
   "metadata": {},
   "source": [
    "## Model Drift Removal\n",
    "\n",
    "This is a test notebook for model drift removal. The model may have a significant drift over time and, in order to remove the drift, we look for linear (or higher order trend) in output variables. For this, we compute mean of required variables over all ensembles and simulations (irrespetive of start year). We compute yearly-mean to remove seasonal cycle and save these datasets for further analysis.   "
   ]
  },
  {
   "cell_type": "code",
   "execution_count": 1,
   "id": "1cc66acc-974c-4ff6-8fea-aaa43af0186f",
   "metadata": {},
   "outputs": [],
   "source": [
    "import numpy as np\n",
    "import scipy as sc\n",
    "import xarray as xr\n",
    "import matplotlib.pyplot as plt\n",
    "import matplotlib.ticker as mticker"
   ]
  },
  {
   "cell_type": "code",
   "execution_count": 2,
   "id": "e8882a03-67d3-4649-9db7-c186ead36da6",
   "metadata": {},
   "outputs": [
    {
     "name": "stdout",
     "output_type": "stream",
     "text": [
      "<xarray.Dataset>\n",
      "Dimensions:                  (deptht: 75, depthw: 75, r: 10, start_year: 3, time_counter: 125, x: 1, y: 451)\n",
      "Coordinates:\n",
      "  * time_counter             (time_counter) float64 0.0 0.0 0.0 ... 0.0 0.0 0.0\n",
      "  * deptht                   (deptht) float32 0.50576 1.5558553 ... 5902.0576\n",
      "  * depthw                   (depthw) float32 0.0 1.0239066 ... 5596.249 5800.0\n",
      "    nav_lon                  (y, x) float32 dask.array<shape=(451, 1), chunksize=(451, 1)>\n",
      "    nav_lat                  (y, x) float32 dask.array<shape=(451, 1), chunksize=(451, 1)>\n",
      "    time_centered            (start_year, time_counter) object dask.array<shape=(3, 125), chunksize=(1, 125)>\n",
      "  * start_year               (start_year) int64 1960 1980 2000\n",
      "Dimensions without coordinates: r, x, y\n",
      "Data variables:\n",
      "    hfbasin_atlantic         (start_year, r, time_counter, y, x) float32 dask.array<shape=(3, 10, 125, 451, 1), chunksize=(1, 1, 125, 451, 1)>\n",
      "    hfbasinpmdiff_atlantic   (start_year, r, time_counter, y, x) float32 dask.array<shape=(3, 10, 125, 451, 1), chunksize=(1, 1, 125, 451, 1)>\n",
      "    hfovgyre_atlantic        (start_year, r, time_counter, y, x) float32 dask.array<shape=(3, 10, 125, 451, 1), chunksize=(1, 1, 125, 451, 1)>\n",
      "    hfovovrt_atlantic        (start_year, r, time_counter, y, x) float32 dask.array<shape=(3, 10, 125, 451, 1), chunksize=(1, 1, 125, 451, 1)>\n",
      "    sophtadv_atlantic        (start_year, r, time_counter, y, x) float32 dask.array<shape=(3, 10, 125, 451, 1), chunksize=(1, 1, 125, 451, 1)>\n",
      "    sltbasin_atlantic        (start_year, r, time_counter, y, x) float32 dask.array<shape=(3, 10, 125, 451, 1), chunksize=(1, 1, 125, 451, 1)>\n",
      "    sltbasinpmdiff_atlantic  (start_year, r, time_counter, y, x) float32 dask.array<shape=(3, 10, 125, 451, 1), chunksize=(1, 1, 125, 451, 1)>\n",
      "    sltovgyre_atlantic       (start_year, r, time_counter, y, x) float32 dask.array<shape=(3, 10, 125, 451, 1), chunksize=(1, 1, 125, 451, 1)>\n",
      "    sltovovrt_atlantic       (start_year, r, time_counter, y, x) float32 dask.array<shape=(3, 10, 125, 451, 1), chunksize=(1, 1, 125, 451, 1)>\n",
      "    sopstadv_atlantic        (start_year, r, time_counter, y, x) float32 dask.array<shape=(3, 10, 125, 451, 1), chunksize=(1, 1, 125, 451, 1)>\n",
      "    zomsfatl                 (start_year, r, time_counter, depthw, y, x) float32 dask.array<shape=(3, 10, 125, 75, 451, 1), chunksize=(1, 1, 125, 75, 451, 1)>\n",
      "    zosalatl                 (start_year, r, time_counter, deptht, y, x) float32 dask.array<shape=(3, 10, 125, 75, 451, 1), chunksize=(1, 1, 125, 75, 451, 1)>\n",
      "    zosrfatl                 (start_year, r, time_counter, deptht, y, x) float32 dask.array<shape=(3, 10, 125, 75, 451, 1), chunksize=(1, 1, 125, 75, 451, 1)>\n",
      "Attributes:\n",
      "    name:         av640o_1m_19601101_19601130\n",
      "    description:  processed diagnostics\n",
      "    title:        processed diagnostics\n",
      "    Conventions:  CF-1.5\n",
      "    production:   An IPSL model\n",
      "    timeStamp:    2018-Mar-02 17:40:43 UTC\n",
      "    history:      Mon Oct 11 12:56:39 2021: /opt/moose/moose-netcdf/bin/ncks ...\n",
      "    NCO:          4.4.5\n"
     ]
    }
   ],
   "source": [
    "## ------ Read Data (few tests for check only) ------------------ ##\n",
    "\n",
    "ppdir=\"/home/users/hkhatri/DePreSys4_Data/Data_Consolidated/\"\n",
    "\n",
    "# variable list to keep in the dataset\n",
    "var_list = ['hfbasin_atlantic', 'hfbasinpmdiff_atlantic', 'hfovgyre_atlantic', 'hfovovrt_atlantic', 'sophtadv_atlantic', \n",
    "            'sltbasin_atlantic', 'sltbasinpmdiff_atlantic', 'sltovgyre_atlantic', 'sltovovrt_atlantic', 'sopstadv_atlantic',\n",
    "            'zomsfatl', 'zosalatl','zosrfatl']\n",
    "\n",
    "ds = []\n",
    "\n",
    "# Loop over year to combine indivual year files\n",
    "for year in range(1960, 2017, 20):\n",
    "    \n",
    "    d = xr.open_dataset(ppdir + str(year) + \"_diaptr.nc\", chunks={'r':1})\n",
    "    d = d.get(var_list)\n",
    "    ds.append(d)\n",
    "    \n",
    "ds = xr.concat(ds, dim='start_year')\n",
    "\n",
    "ds = ds.assign(start_year = np.arange(1960, 2017, 20))\n",
    "\n",
    "ds = ds.chunk({'start_year': 1})\n",
    "\n",
    "print(ds)"
   ]
  },
  {
   "cell_type": "markdown",
   "id": "4eb696bc-c557-4d4b-8446-e64b093c05ab",
   "metadata": {},
   "source": [
    "### Testing combining data irrespective of start year\n"
   ]
  },
  {
   "cell_type": "code",
   "execution_count": 6,
   "id": "6001b47a-11da-4033-af60-258ef81d41b7",
   "metadata": {},
   "outputs": [],
   "source": [
    "ds_save = []\n",
    "\n",
    "for j in range(0,len(ds.start_year)):\n",
    "    \n",
    "    tmp = ds.sum('r').isel(start_year=j, time_counter=slice(2,122)).groupby('time_centered.year').mean('time_counter')\n",
    "    \n",
    "    tmp = tmp.assign(year = np.arange(1, 11)) # to have same year values to compute mean\n",
    "    \n",
    "    ds_save.append(tmp)\n",
    "    \n",
    "    #if (j==0):\n",
    "    #    ds_save = tmp\n",
    "    #else:\n",
    "    #    ds_save = ds_save + tmp\n",
    "        \n",
    "ds_save = sum(ds_save)       \n",
    "ds_save = ds_save / (len(ds.start_year) * len(ds.r))\n",
    "ds_save = ds_save.drop('start_year')"
   ]
  },
  {
   "cell_type": "code",
   "execution_count": 7,
   "id": "74dcc1ab-bcc4-4df7-992b-363b3838f6c6",
   "metadata": {},
   "outputs": [
    {
     "data": {
      "text/plain": [
       "<xarray.Dataset>\n",
       "Dimensions:                  (deptht: 75, depthw: 75, x: 1, y: 451, year: 10)\n",
       "Coordinates:\n",
       "  * deptht                   (deptht) float32 0.50576 1.5558553 ... 5902.0576\n",
       "  * year                     (year) int64 1 2 3 4 5 6 7 8 9 10\n",
       "  * depthw                   (depthw) float32 0.0 1.0239066 ... 5596.249 5800.0\n",
       "    nav_lon                  (y, x) float32 0.0 0.0 0.0 0.0 ... 0.0 0.0 0.0 0.0\n",
       "    nav_lat                  (y, x) float32 3.9967546 4.246108 ... 79.98739\n",
       "Dimensions without coordinates: x, y\n",
       "Data variables:\n",
       "    hfbasin_atlantic         (year, y, x) float32 dask.array<shape=(10, 451, 1), chunksize=(1, 451, 1)>\n",
       "    hfbasinpmdiff_atlantic   (year, y, x) float32 dask.array<shape=(10, 451, 1), chunksize=(1, 451, 1)>\n",
       "    hfovgyre_atlantic        (year, y, x) float32 dask.array<shape=(10, 451, 1), chunksize=(1, 451, 1)>\n",
       "    hfovovrt_atlantic        (year, y, x) float32 dask.array<shape=(10, 451, 1), chunksize=(1, 451, 1)>\n",
       "    sophtadv_atlantic        (year, y, x) float32 dask.array<shape=(10, 451, 1), chunksize=(1, 451, 1)>\n",
       "    sltbasin_atlantic        (year, y, x) float32 dask.array<shape=(10, 451, 1), chunksize=(1, 451, 1)>\n",
       "    sltbasinpmdiff_atlantic  (year, y, x) float32 dask.array<shape=(10, 451, 1), chunksize=(1, 451, 1)>\n",
       "    sltovgyre_atlantic       (year, y, x) float32 dask.array<shape=(10, 451, 1), chunksize=(1, 451, 1)>\n",
       "    sltovovrt_atlantic       (year, y, x) float32 dask.array<shape=(10, 451, 1), chunksize=(1, 451, 1)>\n",
       "    sopstadv_atlantic        (year, y, x) float32 dask.array<shape=(10, 451, 1), chunksize=(1, 451, 1)>\n",
       "    zomsfatl                 (year, depthw, y, x) float32 dask.array<shape=(10, 75, 451, 1), chunksize=(1, 75, 451, 1)>\n",
       "    zosalatl                 (year, deptht, y, x) float32 dask.array<shape=(10, 75, 451, 1), chunksize=(1, 75, 451, 1)>\n",
       "    zosrfatl                 (year, deptht, y, x) float32 dask.array<shape=(10, 75, 451, 1), chunksize=(1, 75, 451, 1)>"
      ]
     },
     "execution_count": 7,
     "metadata": {},
     "output_type": "execute_result"
    }
   ],
   "source": [
    "ds_save"
   ]
  },
  {
   "cell_type": "code",
   "execution_count": 5,
   "id": "17c2f6cb-a712-412e-a90a-8dd634175861",
   "metadata": {},
   "outputs": [
    {
     "data": {
      "text/plain": [
       "[<matplotlib.lines.Line2D at 0x7f43701147f0>]"
      ]
     },
     "execution_count": 5,
     "metadata": {},
     "output_type": "execute_result"
    },
    {
     "data": {
      "image/png": "[encoded data removed]",
      "text/plain": [
       "<Figure size 432x288 with 1 Axes>"
      ]
     },
     "metadata": {
      "needs_background": "light"
     },
     "output_type": "display_data"
    }
   ],
   "source": [
    "plt.plot(np.arange(1,11), tmp['hfbasin_atlantic'].isel(y=10,x=0) / len(ds.r))\n",
    "plt.plot(np.arange(1,11), ds_save['hfbasin_atlantic'].isel(y=10,x=0))"
   ]
  },
  {
   "cell_type": "code",
   "execution_count": 8,
   "id": "a5b39874-536f-4a0b-b5ad-e513597c1efd",
   "metadata": {},
   "outputs": [
    {
     "data": {
      "text/plain": [
       "[<matplotlib.lines.Line2D at 0x7f43683e6ef0>]"
      ]
     },
     "execution_count": 8,
     "metadata": {},
     "output_type": "execute_result"
    },
    {
     "data": {
      "image/png": "[encoded data removed]",
      "text/plain": [
       "<Figure size 432x288 with 1 Axes>"
      ]
     },
     "metadata": {
      "needs_background": "light"
     },
     "output_type": "display_data"
    }
   ],
   "source": [
    "plt.plot(np.arange(1,11), tmp['hfbasin_atlantic'].isel(y=10,x=0) / len(ds.r))\n",
    "plt.plot(np.arange(1,11), ds_save['hfbasin_atlantic'].isel(y=10,x=0))"
   ]
  },
  {
   "cell_type": "code",
   "execution_count": null,
   "id": "e1c4b429-f0ee-4de0-b909-f9cf14f6254d",
   "metadata": {},
   "outputs": [],
   "source": []
  }
 ],
 "metadata": {
  "kernelspec": {
   "display_name": "Python 3 + Jaspy",
   "language": "python",
   "name": "jaspy"
  },
  "language_info": {
   "codemirror_mode": {
    "name": "ipython",
    "version": 3
   },
   "file_extension": ".py",
   "mimetype": "text/x-python",
   "name": "python",
   "nbconvert_exporter": "python",
   "pygments_lexer": "ipython3",
   "version": "3.7.1"
  }
 },
 "nbformat": 4,
 "nbformat_minor": 5
}
