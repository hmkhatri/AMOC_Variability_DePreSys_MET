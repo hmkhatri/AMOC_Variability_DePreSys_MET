{
 "cells": [
  {
   "cell_type": "markdown",
   "id": "4455f8a1-30c9-43a6-ace6-7b1bb7d82e01",
   "metadata": {},
   "source": [
    "## Overturning data\n",
    "\n",
    "This notebook for saving overturning, meridional heat/salt transport diagnostics for all hindcasts and ensembles in one netcdf file. "
   ]
  },
  {
   "cell_type": "code",
   "execution_count": 2,
   "id": "4543fe7e-0f79-4701-b379-f504ee4b0d02",
   "metadata": {},
   "outputs": [],
   "source": [
    "import numpy as np\n",
    "import xarray as xr"
   ]
  },
  {
   "cell_type": "code",
   "execution_count": 7,
   "id": "ce6b81c0-c564-42e1-8dfb-6cd4be39f3cb",
   "metadata": {},
   "outputs": [
    {
     "name": "stdout",
     "output_type": "stream",
     "text": [
      "<xarray.Dataset>\n",
      "Dimensions:             (start_year: 57, r: 10, time_counter: 125, y: 451, x: 1, depthw: 75)\n",
      "Coordinates:\n",
      "  * depthw              (depthw) float32 0.0 1.024 2.103 ... 5.596e+03 5.8e+03\n",
      "    nav_lat             (y, x) float32 dask.array<chunksize=(451, 1), meta=np.ndarray>\n",
      "    nav_lon             (y, x) float32 dask.array<chunksize=(451, 1), meta=np.ndarray>\n",
      "    time_centered       (start_year, time_counter) object dask.array<chunksize=(1, 125), meta=np.ndarray>\n",
      "  * time_counter        (time_counter) float64 0.0 0.0 0.0 0.0 ... 0.0 0.0 0.0\n",
      "  * start_year          (start_year) int64 1960 1961 1962 ... 2014 2015 2016\n",
      "Dimensions without coordinates: r, y, x\n",
      "Data variables:\n",
      "    hfbasin_atlantic    (start_year, r, time_counter, y, x) float32 dask.array<chunksize=(1, 1, 125, 451, 1), meta=np.ndarray>\n",
      "    sltbasin_atlantic   (start_year, r, time_counter, y, x) float32 dask.array<chunksize=(1, 1, 125, 451, 1), meta=np.ndarray>\n",
      "    zomsfatl            (start_year, r, time_counter, depthw, y, x) float32 dask.array<chunksize=(1, 1, 125, 75, 451, 1), meta=np.ndarray>\n",
      "    sltovgyre_atlantic  (start_year, r, time_counter, y, x) float32 dask.array<chunksize=(1, 1, 125, 451, 1), meta=np.ndarray>\n",
      "    sltovovrt_atlantic  (start_year, r, time_counter, y, x) float32 dask.array<chunksize=(1, 1, 125, 451, 1), meta=np.ndarray>\n",
      "    hfovgyre_atlantic   (start_year, r, time_counter, y, x) float32 dask.array<chunksize=(1, 1, 125, 451, 1), meta=np.ndarray>\n",
      "    hfovovrt_atlantic   (start_year, r, time_counter, y, x) float32 dask.array<chunksize=(1, 1, 125, 451, 1), meta=np.ndarray>\n",
      "Attributes:\n",
      "    name:         av640o_1m_19601101_19601130\n",
      "    description:  processed diagnostics\n",
      "    title:        processed diagnostics\n",
      "    Conventions:  CF-1.5\n",
      "    production:   An IPSL model\n",
      "    timeStamp:    2018-Mar-02 17:40:43 UTC\n",
      "    history:      Mon Oct 11 12:56:39 2021: /opt/moose/moose-netcdf/bin/ncks ...\n",
      "    NCO:          4.4.5\n"
     ]
    }
   ],
   "source": [
    "ppdir=\"/home/users/hkhatri/DePreSys4_Data/Data_Consolidated/\"\n",
    "\n",
    "# variable list to keep in the dataset\n",
    "var_list = ['hfbasin_atlantic', 'sltbasin_atlantic', 'zomsfatl', 'sltovgyre_atlantic', 'sltovovrt_atlantic',\n",
    "           'hfovgyre_atlantic', 'hfovovrt_atlantic']\n",
    "\n",
    "ds = []\n",
    "\n",
    "# Loop over year to combine indivual year files\n",
    "for year in range(1960, 2017):\n",
    "    \n",
    "    d = xr.open_dataset(ppdir + str(year) + \"_diaptr.nc\", decode_times=False, chunks={'r':1})\n",
    "    d = d.get(var_list)\n",
    "    ds.append(d)\n",
    "    \n",
    "ds = xr.concat(ds, dim='start_year')\n",
    "\n",
    "ds = ds.assign(start_year = np.arange(1960, 2017))\n",
    "\n",
    "ds = ds.chunk({'start_year': 1})\n",
    "\n",
    "ds = xr.decode_cf(ds)\n",
    "\n",
    "print(ds)"
   ]
  },
  {
   "cell_type": "code",
   "execution_count": 8,
   "id": "5398e09f-d7cd-4ae0-93b7-391827973aef",
   "metadata": {},
   "outputs": [
    {
     "name": "stdout",
     "output_type": "stream",
     "text": [
      "Data size =  10.411397364  GB\n"
     ]
    }
   ],
   "source": [
    "print('Data size = ', ds.nbytes/1e9, ' GB')"
   ]
  },
  {
   "cell_type": "code",
   "execution_count": 10,
   "id": "89f172c6-a240-4eef-b56f-7c3b9f943a7b",
   "metadata": {},
   "outputs": [
    {
     "name": "stdout",
     "output_type": "stream",
     "text": [
      "CPU times: user 29.8 s, sys: 55.7 s, total: 1min 25s\n",
      "Wall time: 1min 9s\n",
      "Data saved successfully\n"
     ]
    }
   ],
   "source": [
    "# save file\n",
    "\n",
    "save_file = \"/home/users/hkhatri/DePreSys4_Data/Data_Consolidated/Overturning_z.nc\"\n",
    "%time ds.to_netcdf(save_file)\n",
    "\n",
    "print(\"Data saved successfully\")"
   ]
  },
  {
   "cell_type": "code",
   "execution_count": null,
   "id": "8a2e8321-8cb5-4270-944a-ba51d8e96d11",
   "metadata": {},
   "outputs": [],
   "source": []
  }
 ],
 "metadata": {
  "kernelspec": {
   "display_name": "Python 3 + Jaspy",
   "language": "python",
   "name": "jaspy"
  },
  "language_info": {
   "codemirror_mode": {
    "name": "ipython",
    "version": 3
   },
   "file_extension": ".py",
   "mimetype": "text/x-python",
   "name": "python",
   "nbconvert_exporter": "python",
   "pygments_lexer": "ipython3",
   "version": "3.8.12"
  }
 },
 "nbformat": 4,
 "nbformat_minor": 5
}
