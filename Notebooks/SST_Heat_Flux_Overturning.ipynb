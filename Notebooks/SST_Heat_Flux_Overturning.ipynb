{
 "cells": [
  {
   "cell_type": "markdown",
   "id": "dcbcaddc-71f3-4ad1-a3ce-7885c0f714c0",
   "metadata": {},
   "source": [
    "## Ocean Surface metrics: Long-term Changes\n",
    "\n",
    "In this notebook, we examine long-term changes (over 10-year period) in the overturning strength in the subpolar North Atlantic. Correspondingly, changes in SST, surface heat flux and sea surface height are analysed at high latitudes.\n",
    "\n",
    "We focus on winter season (DJF) and simulation started on 1 Nov 2008. The approach is then extended to all simulations (see relevant python script)."
   ]
  },
  {
   "cell_type": "code",
   "execution_count": null,
   "id": "00610eb9-8031-4363-9c53-769135476daa",
   "metadata": {},
   "outputs": [],
   "source": []
  }
 ],
 "metadata": {
  "kernelspec": {
   "display_name": "Python 3 + Jaspy",
   "language": "python",
   "name": "jaspy"
  },
  "language_info": {
   "codemirror_mode": {
    "name": "ipython",
    "version": 3
   },
   "file_extension": ".py",
   "mimetype": "text/x-python",
   "name": "python",
   "nbconvert_exporter": "python",
   "pygments_lexer": "ipython3",
   "version": "3.7.1"
  }
 },
 "nbformat": 4,
 "nbformat_minor": 5
}
