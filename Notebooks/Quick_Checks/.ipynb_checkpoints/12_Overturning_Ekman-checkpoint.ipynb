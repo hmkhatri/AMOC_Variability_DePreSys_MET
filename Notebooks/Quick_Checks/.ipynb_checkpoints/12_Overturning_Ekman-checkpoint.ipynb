{
 "cells": [
  {
   "cell_type": "markdown",
   "id": "9c4b8341-ae20-4f76-882e-224cb082b7a7",
   "metadata": {},
   "source": [
    "### Overturning due to Ekamn Transport\n",
    "\n",
    "This notebook, we compute overturning contribution due to Ekman transport. We use zonal surface wind stress to compute Ekman overturning using the following relations,\n",
    "\n",
    "$$-fv = \\frac{-1}{\\rho_o}\\frac{\\partial p}{\\partial x} + \\frac{1}{\\rho_o} \\frac{\\partial \\tau_x}{\\partial z} $$\n",
    "$$-f\\int_{x_w}^{x_e}\\int_{-h}^{0}v dxdz = \\frac{-1}{\\rho_o}\\int_{x_w}^{x_e}\\int_{-h}^{0}\\frac{\\partial p}{\\partial x} dxdz + \\frac{1}{\\rho_o} \\int_{x_w}^{x_e}  \\tau_x dx$$\n",
    "$$-f\\left[ \\psi_{g} + \\psi_{ek} \\right] = \\frac{-1}{\\rho_o}\\int_{x_w}^{x_e}\\int_{-h}^{0}\\frac{\\partial p}{\\partial x} dxdz + \\frac{1}{\\rho_o} \\int_{x_w}^{x_e}  \\tau_x dx$$\n",
    "$$ \\psi_{ek} = \\frac{-1}{f\\rho_o} \\int_{x_w}^{x_e}  \\tau_x dx$$\n",
    "\n",
    "\n"
   ]
  },
  {
   "cell_type": "code",
   "execution_count": 2,
   "id": "872444f3-11c3-4d8b-abbd-0b7810a275fd",
   "metadata": {},
   "outputs": [
    {
     "ename": "ModuleNotFoundError",
     "evalue": "No module named 'regionmask'",
     "output_type": "error",
     "traceback": [
      "\u001b[0;31m---------------------------------------------------------------------------\u001b[0m",
      "\u001b[0;31mModuleNotFoundError\u001b[0m                       Traceback (most recent call last)",
      "\u001b[0;32m/tmp/ipykernel_2495/785125195.py\u001b[0m in \u001b[0;36m<module>\u001b[0;34m\u001b[0m\n\u001b[1;32m     11\u001b[0m \u001b[0;34m\u001b[0m\u001b[0m\n\u001b[1;32m     12\u001b[0m \u001b[0;32mfrom\u001b[0m \u001b[0mcmip6_preprocessing\u001b[0m\u001b[0;34m.\u001b[0m\u001b[0mregionmask\u001b[0m \u001b[0;32mimport\u001b[0m \u001b[0mmerged_mask\u001b[0m\u001b[0;34m\u001b[0m\u001b[0;34m\u001b[0m\u001b[0m\n\u001b[0;32m---> 13\u001b[0;31m \u001b[0;32mimport\u001b[0m \u001b[0mregionmask\u001b[0m\u001b[0;34m\u001b[0m\u001b[0;34m\u001b[0m\u001b[0m\n\u001b[0m\u001b[1;32m     14\u001b[0m \u001b[0;34m\u001b[0m\u001b[0m\n\u001b[1;32m     15\u001b[0m \u001b[0;32mimport\u001b[0m \u001b[0mwarnings\u001b[0m\u001b[0;34m\u001b[0m\u001b[0;34m\u001b[0m\u001b[0m\n",
      "\u001b[0;31mModuleNotFoundError\u001b[0m: No module named 'regionmask'"
     ]
    }
   ],
   "source": [
    "import numpy as np\n",
    "import xarray as xr\n",
    "import math\n",
    "import matplotlib.pyplot as plt\n",
    "import matplotlib.ticker as mticker\n",
    "from cartopy.mpl.gridliner import LONGITUDE_FORMATTER, LATITUDE_FORMATTER\n",
    "import cartopy.crs as ccrs\n",
    "import cartopy.feature as cfeature\n",
    "import dask\n",
    "from dask.diagnostics import Profiler, ResourceProfiler, CacheProfiler, ProgressBar, visualize\n",
    "\n",
    "from cmip6_preprocessing.regionmask import merged_mask\n",
    "import regionmask\n",
    "\n",
    "import warnings\n",
    "warnings.filterwarnings(\"ignore\")"
   ]
  },
  {
   "cell_type": "code",
   "execution_count": 3,
   "id": "c3ae2ef9-a564-4ec3-b45f-d8d4b6eb105a",
   "metadata": {},
   "outputs": [],
   "source": [
    "ppdir = \"/home/users/hkhatri/DePreSys4_Data/Data_Anomaly_Compute/NAO/\"\n",
    "\n",
    "ds_NAO = xr.open_dataset(ppdir + \"NAO_SLP_Anomaly.nc\")\n",
    "\n",
    "NAO_season = ds_NAO['NAO'].copy()\n",
    "tim = ds_NAO['time_val'].isel(start_year=0).drop('start_year')\n",
    "NAO_season = NAO_season.assign_coords(time=tim)\n",
    "\n",
    "NAO_season = NAO_season.isel(time=slice(1,len(NAO_season.time)-1)) # get rid of first Nov and last Mar for better seasonal avg\n",
    "\n",
    "NAO_season = NAO_season.resample(time='QS-DEC').mean('time').compute()"
   ]
  },
  {
   "cell_type": "code",
   "execution_count": 4,
   "id": "9fb8f098-ebf1-460f-91dc-33edaaf48548",
   "metadata": {},
   "outputs": [
    {
     "name": "stdout",
     "output_type": "stream",
     "text": [
      "30 45\n",
      "68 94\n",
      "107 139\n"
     ]
    }
   ],
   "source": [
    "ppdir = \"/home/users/hkhatri/DePreSys4_Data/Data_Composite/time_series/\"\n",
    "\n",
    "tauu_NAOp = []\n",
    "tauu_NAOn = []\n",
    "\n",
    "var_list_atmos = ['tauu']\n",
    "\n",
    "NAO_cut = 2.5\n",
    "\n",
    "count_NAOp = 0\n",
    "count_NAOn = 0\n",
    "\n",
    "for ind in range(4,13,4):\n",
    "    \n",
    "    c_NAOp = (xr.where(NAO_season.isel(time=ind) >= NAO_cut, 1, 0)).sum().values\n",
    "    c_NAOn = (xr.where(NAO_season.isel(time=ind) <= -NAO_cut, 1, 0)).sum().values\n",
    "    \n",
    "    count_NAOp =  count_NAOp + c_NAOp\n",
    "    count_NAOn =  count_NAOn + c_NAOn\n",
    "    \n",
    "    tau_NAOp = xr.open_mfdataset(ppdir + \"*NAOp_tauu*ind_\" + str(ind) + \".nc\")\n",
    "    tau_NAOp = tau_NAOp.isel(time = slice((int(ind/4)-1)*12, (int(ind/4) + 7)*12 + 5))  * c_NAOp\n",
    "    \n",
    "    tau_NAOn = xr.open_mfdataset(ppdir + \"*NAOn_tauu*ind_\" + str(ind) + \".nc\")\n",
    "    tau_NAOn = tau_NAOn.isel(time = slice((int(ind/4)-1)*12, (int(ind/4) + 7)*12 + 5))  * c_NAOn\n",
    "    \n",
    "    if(ind > 4):\n",
    "        tau_NAOn = tau_NAOn.drop('time')\n",
    "        tau_NAOp = tau_NAOp.drop('time')\n",
    "    \n",
    "    tauu_NAOn.append(tau_NAOn)\n",
    "    tauu_NAOp.append(tau_NAOp)\n",
    "    \n",
    "    print(count_NAOp, count_NAOn)\n",
    "\n",
    "tauu_NAOp = sum(tauu_NAOp)/count_NAOp\n",
    "tauu_NAOn = sum(tauu_NAOn)/count_NAOn"
   ]
  },
  {
   "cell_type": "code",
   "execution_count": 5,
   "id": "be7e5fd3-0b0d-431c-bcb9-72a301bb465f",
   "metadata": {},
   "outputs": [
    {
     "name": "stdout",
     "output_type": "stream",
     "text": [
      "<xarray.Dataset>\n",
      "Dimensions:  (time: 101, lat: 324, lon: 432)\n",
      "Coordinates:\n",
      "  * time     (time) object 1960-11-16 00:00:00 ... 1969-03-16 00:00:00\n",
      "  * lat      (lat) float64 -89.72 -89.17 -88.61 -88.06 ... 88.61 89.17 89.72\n",
      "  * lon      (lon) float64 0.0 0.8333 1.667 2.5 ... 356.7 357.5 358.3 359.2\n",
      "Data variables:\n",
      "    tauu     (time, lat, lon) float32 dask.array<chunksize=(101, 324, 432), meta=np.ndarray>\n"
     ]
    }
   ],
   "source": [
    "print(tauu_NAOp)"
   ]
  },
  {
   "cell_type": "markdown",
   "id": "61bba143-fe10-4109-8473-6ac7045d6bd8",
   "metadata": {},
   "source": [
    "#### Grid info\n",
    "\n",
    "Before computing $\\psi_{ek}$, we need to have gird information and also need to create mask for North Atlantic, so we do not count wind stress values on land."
   ]
  },
  {
   "cell_type": "code",
   "execution_count": null,
   "id": "bd29ea15-d9a6-4fa3-912f-363992cc6020",
   "metadata": {},
   "outputs": [],
   "source": [
    "RAD_EARTH = 6.387e6\n",
    "\n",
    "tauu_NAOp['dx'] = np.mean(tauu_NAOp['lon'].diff('lon')) * np.cos(tauu_NAOp['lat'] * np.pi / 180.) * (2 * np.pi * RAD_EARTH / 360.)\n",
    "tauu_NAOn['dx'] = np.mean(tauu_NAOn['lon'].diff('lon')) * np.cos(tauu_NAOn['lat'] * np.pi / 180.) * (2 * np.pi * RAD_EARTH / 360.)"
   ]
  }
 ],
 "metadata": {
  "kernelspec": {
   "display_name": "py-xgcm",
   "language": "python",
   "name": "py-xgcm"
  },
  "language_info": {
   "codemirror_mode": {
    "name": "ipython",
    "version": 3
   },
   "file_extension": ".py",
   "mimetype": "text/x-python",
   "name": "python",
   "nbconvert_exporter": "python",
   "pygments_lexer": "ipython3",
   "version": "3.9.9"
  }
 },
 "nbformat": 4,
 "nbformat_minor": 5
}
