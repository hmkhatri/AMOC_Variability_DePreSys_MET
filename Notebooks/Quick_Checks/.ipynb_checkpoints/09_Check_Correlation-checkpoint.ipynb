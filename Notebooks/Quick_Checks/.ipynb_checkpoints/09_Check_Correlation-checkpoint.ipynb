{
 "cells": [
  {
   "cell_type": "markdown",
   "id": "1bbaf55c-7c7a-4368-8efa-6c6a9e71ac67",
   "metadata": {},
   "source": [
    "## Correlation between hfds/SST and NAO indices\n",
    "\n",
    "This is test notebook for checking correlation between NAO indices and surface heat flux / SST anomalies. "
   ]
  },
  {
   "cell_type": "code",
   "execution_count": 2,
   "id": "4bfe4158-ba7b-475a-8d5a-8a68c762e7b8",
   "metadata": {},
   "outputs": [],
   "source": [
    "# Load libraries\n",
    "\n",
    "import numpy as np\n",
    "import xarray as xr\n",
    "import matplotlib.pyplot as plt"
   ]
  },
  {
   "cell_type": "code",
   "execution_count": null,
   "id": "11a2af1b-8838-4ae3-b214-de93e62e7cbe",
   "metadata": {},
   "outputs": [],
   "source": [
    "# Read raw data for one year\n",
    "\n",
    "var_list = ['tos', 'hfds']\n",
    "\n",
    "ppdir=\"/badc/cmip6/data/CMIP6/DCPP/MOHC/HadGEM3-GC31-MM/dcppA-hindcast/\"\n",
    "\n",
    "year = 2008\n",
    "\n",
    "ds = []\n",
    "\n",
    "for var in var_list:\n",
    "    ds1 = []\n",
    "    for r in range(0,10):\n",
    "        var_path = \"s\" + str(year) +\"-r\" + str(r+1) + \"i1p1f2/Omon/\"+ var +\"/gn/files/d20200417/\"\n",
    "        d = xr.open_mfdataset(ppdir + var_path + \"*.nc\")\n",
    "        ds1.append(d)\n",
    "    \n",
    "    ds1 = xr.concat(ds1, dim='r')\n",
    "    \n",
    "    ds.append(ds1)\n",
    "\n",
    "ds = xr.merge(ds)\n",
    "print(ds)"
   ]
  },
  {
   "cell_type": "code",
   "execution_count": null,
   "id": "6a6165d7-4845-4e10-b8ac-adb8b78c08a5",
   "metadata": {},
   "outputs": [],
   "source": [
    "# Read drift data to compute anomalies\n",
    "\n",
    "var_list = ['tos', 'hfds']\n",
    "\n",
    "ppdir_drift=\"/home/users/hkhatri/DePreSys4_Data/Data_Drift_Removal/Drift_1970_2016_Method_DCPP/\"\n",
    "\n",
    "ds_drift = []\n",
    "    \n",
    "for var in var_list:\n",
    "\n",
    "    ds2 = []\n",
    "    \n",
    "    for lead_year in range(0, 11):\n",
    "\n",
    "        ds1 =[]\n",
    "        for r in range(1,11):\n",
    "\n",
    "            d = xr.open_dataset(ppdir_drift + var +\"/\" + \"Drift_\" + var + \"_r\" + str(r) + \"_Lead_Year_\" + \n",
    "                                str(lead_year + 1) + \".nc\", decode_times= False)\n",
    "            ds1.append(d)\n",
    "\n",
    "        ds1 = xr.concat(ds1, dim='ensemble')\n",
    "        ds2.append(ds1)\n",
    "\n",
    "    ds2 = xr.concat(ds2, dim='lead_year')\n",
    "    \n",
    "    ds_drift.append(ds2)\n",
    "\n",
    "ds_drift = xr.merge(ds_drift)"
   ]
  }
 ],
 "metadata": {
  "kernelspec": {
   "display_name": "py-xgcm",
   "language": "python",
   "name": "py-xgcm"
  },
  "language_info": {
   "codemirror_mode": {
    "name": "ipython",
    "version": 3
   },
   "file_extension": ".py",
   "mimetype": "text/x-python",
   "name": "python",
   "nbconvert_exporter": "python",
   "pygments_lexer": "ipython3",
   "version": "3.9.7"
  }
 },
 "nbformat": 4,
 "nbformat_minor": 5
}
