{
 "cells": [
  {
   "cell_type": "markdown",
   "id": "99b01d87-9064-4b6d-a9c5-8441b8744d90",
   "metadata": {},
   "source": [
    "## Model Drift Removal\n",
    "\n",
    "This is a test notebook for model drift removal. The model may have a significant drift over time and, in order to remove the drift, we look for linear (or higher order trend) in output variables. For this, we compute mean of required variables over all ensembles and simulations (irrespetive of start year). We compute yearly-mean to remove seasonal cycle and save these datasets for further analysis.   "
   ]
  },
  {
   "cell_type": "code",
   "execution_count": 1,
   "id": "1cc66acc-974c-4ff6-8fea-aaa43af0186f",
   "metadata": {},
   "outputs": [],
   "source": [
    "import numpy as np\n",
    "import scipy as sc\n",
    "import xarray as xr\n",
    "import matplotlib.pyplot as plt\n",
    "import matplotlib.ticker as mticker"
   ]
  },
  {
   "cell_type": "code",
   "execution_count": 2,
   "id": "e8882a03-67d3-4649-9db7-c186ead36da6",
   "metadata": {},
   "outputs": [
    {
     "name": "stdout",
     "output_type": "stream",
     "text": [
      "<xarray.Dataset>\n",
      "Dimensions:                  (deptht: 75, depthw: 75, r: 10, start_year: 3, time_counter: 125, x: 1, y: 451)\n",
      "Coordinates:\n",
      "    nav_lon                  (y, x) float32 dask.array<shape=(451, 1), chunksize=(451, 1)>\n",
      "  * deptht                   (deptht) float32 0.50576 1.5558553 ... 5902.0576\n",
      "  * depthw                   (depthw) float32 0.0 1.0239066 ... 5596.249 5800.0\n",
      "  * time_counter             (time_counter) float64 0.0 0.0 0.0 ... 0.0 0.0 0.0\n",
      "    nav_lat                  (y, x) float32 dask.array<shape=(451, 1), chunksize=(451, 1)>\n",
      "    time_centered            (start_year, time_counter) object dask.array<shape=(3, 125), chunksize=(1, 125)>\n",
      "  * start_year               (start_year) int64 1960 1980 2000\n",
      "Dimensions without coordinates: r, x, y\n",
      "Data variables:\n",
      "    hfbasin_atlantic         (start_year, r, time_counter, y, x) float32 dask.array<shape=(3, 10, 125, 451, 1), chunksize=(1, 1, 125, 451, 1)>\n",
      "    hfbasinpmdiff_atlantic   (start_year, r, time_counter, y, x) float32 dask.array<shape=(3, 10, 125, 451, 1), chunksize=(1, 1, 125, 451, 1)>\n",
      "    hfovgyre_atlantic        (start_year, r, time_counter, y, x) float32 dask.array<shape=(3, 10, 125, 451, 1), chunksize=(1, 1, 125, 451, 1)>\n",
      "    hfovovrt_atlantic        (start_year, r, time_counter, y, x) float32 dask.array<shape=(3, 10, 125, 451, 1), chunksize=(1, 1, 125, 451, 1)>\n",
      "    sophtadv_atlantic        (start_year, r, time_counter, y, x) float32 dask.array<shape=(3, 10, 125, 451, 1), chunksize=(1, 1, 125, 451, 1)>\n",
      "    sltbasin_atlantic        (start_year, r, time_counter, y, x) float32 dask.array<shape=(3, 10, 125, 451, 1), chunksize=(1, 1, 125, 451, 1)>\n",
      "    sltbasinpmdiff_atlantic  (start_year, r, time_counter, y, x) float32 dask.array<shape=(3, 10, 125, 451, 1), chunksize=(1, 1, 125, 451, 1)>\n",
      "    sltovgyre_atlantic       (start_year, r, time_counter, y, x) float32 dask.array<shape=(3, 10, 125, 451, 1), chunksize=(1, 1, 125, 451, 1)>\n",
      "    sltovovrt_atlantic       (start_year, r, time_counter, y, x) float32 dask.array<shape=(3, 10, 125, 451, 1), chunksize=(1, 1, 125, 451, 1)>\n",
      "    sopstadv_atlantic        (start_year, r, time_counter, y, x) float32 dask.array<shape=(3, 10, 125, 451, 1), chunksize=(1, 1, 125, 451, 1)>\n",
      "    zomsfatl                 (start_year, r, time_counter, depthw, y, x) float32 dask.array<shape=(3, 10, 125, 75, 451, 1), chunksize=(1, 1, 125, 75, 451, 1)>\n",
      "    zosalatl                 (start_year, r, time_counter, deptht, y, x) float32 dask.array<shape=(3, 10, 125, 75, 451, 1), chunksize=(1, 1, 125, 75, 451, 1)>\n",
      "    zosrfatl                 (start_year, r, time_counter, deptht, y, x) float32 dask.array<shape=(3, 10, 125, 75, 451, 1), chunksize=(1, 1, 125, 75, 451, 1)>\n",
      "Attributes:\n",
      "    name:         av640o_1m_19601101_19601130\n",
      "    description:  processed diagnostics\n",
      "    title:        processed diagnostics\n",
      "    Conventions:  CF-1.5\n",
      "    production:   An IPSL model\n",
      "    timeStamp:    2018-Mar-02 17:40:43 UTC\n",
      "    history:      Mon Oct 11 12:56:39 2021: /opt/moose/moose-netcdf/bin/ncks ...\n",
      "    NCO:          4.4.5\n"
     ]
    }
   ],
   "source": [
    "## ------ Read Data (few tests for check only) ------------------ ##\n",
    "\n",
    "ppdir=\"/home/users/hkhatri/DePreSys4_Data/Data_Consolidated/\"\n",
    "\n",
    "# variable list to keep in the dataset\n",
    "var_list = ['hfbasin_atlantic', 'hfbasinpmdiff_atlantic', 'hfovgyre_atlantic', 'hfovovrt_atlantic', 'sophtadv_atlantic', \n",
    "            'sltbasin_atlantic', 'sltbasinpmdiff_atlantic', 'sltovgyre_atlantic', 'sltovovrt_atlantic', 'sopstadv_atlantic',\n",
    "            'zomsfatl', 'zosalatl','zosrfatl']\n",
    "\n",
    "ds = []\n",
    "\n",
    "# Loop over year to combine indivual year files\n",
    "for year in range(1960, 2017, 20):\n",
    "    \n",
    "    d = xr.open_dataset(ppdir + str(year) + \"_diaptr.nc\", chunks={'r':1})\n",
    "    d = d.get(var_list)\n",
    "    ds.append(d)\n",
    "    \n",
    "ds = xr.concat(ds, dim='start_year')\n",
    "\n",
    "ds = ds.assign(start_year = np.arange(1960, 2017, 20))\n",
    "\n",
    "ds = ds.chunk({'start_year': 1})\n",
    "\n",
    "print(ds)"
   ]
  },
  {
   "cell_type": "code",
   "execution_count": 7,
   "id": "b4e3d13e-5aab-4211-882e-6d23daf36f81",
   "metadata": {},
   "outputs": [
    {
     "data": {
      "text/plain": [
       "array([cftime.Datetime360Day(1960, 11, 16, 0, 0, 0, 0, 0, 316),\n",
       "       cftime.Datetime360Day(1960, 12, 16, 0, 0, 0, 0, 2, 346),\n",
       "       cftime.Datetime360Day(1961, 1, 16, 0, 0, 0, 0, 4, 16),\n",
       "       cftime.Datetime360Day(1961, 2, 16, 0, 0, 0, 0, 6, 46),\n",
       "       cftime.Datetime360Day(1961, 3, 16, 0, 0, 0, 0, 1, 76),\n",
       "       cftime.Datetime360Day(1961, 4, 16, 0, 0, 0, 0, 3, 106),\n",
       "       cftime.Datetime360Day(1961, 5, 16, 0, 0, 0, 0, 5, 136),\n",
       "       cftime.Datetime360Day(1961, 6, 16, 0, 0, 0, 0, 0, 166),\n",
       "       cftime.Datetime360Day(1961, 7, 16, 0, 0, 0, 0, 2, 196),\n",
       "       cftime.Datetime360Day(1961, 8, 16, 0, 0, 0, 0, 4, 226),\n",
       "       cftime.Datetime360Day(1961, 9, 16, 0, 0, 0, 0, 6, 256),\n",
       "       cftime.Datetime360Day(1961, 10, 16, 0, 0, 0, 0, 1, 286),\n",
       "       cftime.Datetime360Day(1961, 11, 16, 0, 0, 0, 0, 3, 316),\n",
       "       cftime.Datetime360Day(1961, 12, 16, 0, 0, 0, 0, 5, 346),\n",
       "       cftime.Datetime360Day(1962, 1, 16, 0, 0, 0, 0, 0, 16),\n",
       "       cftime.Datetime360Day(1962, 2, 16, 0, 0, 0, 0, 2, 46),\n",
       "       cftime.Datetime360Day(1962, 3, 16, 0, 0, 0, 0, 4, 76),\n",
       "       cftime.Datetime360Day(1962, 4, 16, 0, 0, 0, 0, 6, 106),\n",
       "       cftime.Datetime360Day(1962, 5, 16, 0, 0, 0, 0, 1, 136),\n",
       "       cftime.Datetime360Day(1962, 6, 16, 0, 0, 0, 0, 3, 166),\n",
       "       cftime.Datetime360Day(1962, 7, 16, 0, 0, 0, 0, 5, 196),\n",
       "       cftime.Datetime360Day(1962, 8, 16, 0, 0, 0, 0, 0, 226),\n",
       "       cftime.Datetime360Day(1962, 9, 16, 0, 0, 0, 0, 2, 256),\n",
       "       cftime.Datetime360Day(1962, 10, 16, 0, 0, 0, 0, 4, 286),\n",
       "       cftime.Datetime360Day(1962, 11, 16, 0, 0, 0, 0, 6, 316),\n",
       "       cftime.Datetime360Day(1962, 12, 16, 0, 0, 0, 0, 1, 346),\n",
       "       cftime.Datetime360Day(1963, 1, 16, 0, 0, 0, 0, 3, 16),\n",
       "       cftime.Datetime360Day(1963, 2, 16, 0, 0, 0, 0, 5, 46),\n",
       "       cftime.Datetime360Day(1963, 3, 16, 0, 0, 0, 0, 0, 76),\n",
       "       cftime.Datetime360Day(1963, 4, 16, 0, 0, 0, 0, 2, 106),\n",
       "       cftime.Datetime360Day(1963, 5, 16, 0, 0, 0, 0, 4, 136),\n",
       "       cftime.Datetime360Day(1963, 6, 16, 0, 0, 0, 0, 6, 166),\n",
       "       cftime.Datetime360Day(1963, 7, 16, 0, 0, 0, 0, 1, 196),\n",
       "       cftime.Datetime360Day(1963, 8, 16, 0, 0, 0, 0, 3, 226),\n",
       "       cftime.Datetime360Day(1963, 9, 16, 0, 0, 0, 0, 5, 256),\n",
       "       cftime.Datetime360Day(1963, 10, 16, 0, 0, 0, 0, 0, 286),\n",
       "       cftime.Datetime360Day(1963, 11, 16, 0, 0, 0, 0, 2, 316),\n",
       "       cftime.Datetime360Day(1963, 12, 16, 0, 0, 0, 0, 4, 346),\n",
       "       cftime.Datetime360Day(1964, 1, 16, 0, 0, 0, 0, 6, 16),\n",
       "       cftime.Datetime360Day(1964, 2, 16, 0, 0, 0, 0, 1, 46),\n",
       "       cftime.Datetime360Day(1964, 3, 16, 0, 0, 0, 0, 3, 76),\n",
       "       cftime.Datetime360Day(1964, 4, 16, 0, 0, 0, 0, 5, 106),\n",
       "       cftime.Datetime360Day(1964, 5, 16, 0, 0, 0, 0, 0, 136),\n",
       "       cftime.Datetime360Day(1964, 6, 16, 0, 0, 0, 0, 2, 166),\n",
       "       cftime.Datetime360Day(1964, 7, 16, 0, 0, 0, 0, 4, 196),\n",
       "       cftime.Datetime360Day(1964, 8, 16, 0, 0, 0, 0, 6, 226),\n",
       "       cftime.Datetime360Day(1964, 9, 16, 0, 0, 0, 0, 1, 256),\n",
       "       cftime.Datetime360Day(1964, 10, 16, 0, 0, 0, 0, 3, 286),\n",
       "       cftime.Datetime360Day(1964, 11, 16, 0, 0, 0, 0, 5, 316),\n",
       "       cftime.Datetime360Day(1964, 12, 16, 0, 0, 0, 0, 0, 346),\n",
       "       cftime.Datetime360Day(1965, 1, 16, 0, 0, 0, 0, 2, 16),\n",
       "       cftime.Datetime360Day(1965, 2, 16, 0, 0, 0, 0, 4, 46),\n",
       "       cftime.Datetime360Day(1965, 3, 16, 0, 0, 0, 0, 6, 76),\n",
       "       cftime.Datetime360Day(1965, 4, 16, 0, 0, 0, 0, 1, 106),\n",
       "       cftime.Datetime360Day(1965, 5, 16, 0, 0, 0, 0, 3, 136),\n",
       "       cftime.Datetime360Day(1965, 6, 16, 0, 0, 0, 0, 5, 166),\n",
       "       cftime.Datetime360Day(1965, 7, 16, 0, 0, 0, 0, 0, 196),\n",
       "       cftime.Datetime360Day(1965, 8, 16, 0, 0, 0, 0, 2, 226),\n",
       "       cftime.Datetime360Day(1965, 9, 16, 0, 0, 0, 0, 4, 256),\n",
       "       cftime.Datetime360Day(1965, 10, 16, 0, 0, 0, 0, 6, 286),\n",
       "       cftime.Datetime360Day(1965, 11, 16, 0, 0, 0, 0, 1, 316),\n",
       "       cftime.Datetime360Day(1965, 12, 16, 0, 0, 0, 0, 3, 346),\n",
       "       cftime.Datetime360Day(1966, 1, 16, 0, 0, 0, 0, 5, 16),\n",
       "       cftime.Datetime360Day(1966, 2, 16, 0, 0, 0, 0, 0, 46),\n",
       "       cftime.Datetime360Day(1966, 3, 16, 0, 0, 0, 0, 2, 76),\n",
       "       cftime.Datetime360Day(1966, 4, 16, 0, 0, 0, 0, 4, 106),\n",
       "       cftime.Datetime360Day(1966, 5, 16, 0, 0, 0, 0, 6, 136),\n",
       "       cftime.Datetime360Day(1966, 6, 16, 0, 0, 0, 0, 1, 166),\n",
       "       cftime.Datetime360Day(1966, 7, 16, 0, 0, 0, 0, 3, 196),\n",
       "       cftime.Datetime360Day(1966, 8, 16, 0, 0, 0, 0, 5, 226),\n",
       "       cftime.Datetime360Day(1966, 9, 16, 0, 0, 0, 0, 0, 256),\n",
       "       cftime.Datetime360Day(1966, 10, 16, 0, 0, 0, 0, 2, 286),\n",
       "       cftime.Datetime360Day(1966, 11, 16, 0, 0, 0, 0, 4, 316),\n",
       "       cftime.Datetime360Day(1966, 12, 16, 0, 0, 0, 0, 6, 346),\n",
       "       cftime.Datetime360Day(1967, 1, 16, 0, 0, 0, 0, 1, 16),\n",
       "       cftime.Datetime360Day(1967, 2, 16, 0, 0, 0, 0, 3, 46),\n",
       "       cftime.Datetime360Day(1967, 3, 16, 0, 0, 0, 0, 5, 76),\n",
       "       cftime.Datetime360Day(1967, 4, 16, 0, 0, 0, 0, 0, 106),\n",
       "       cftime.Datetime360Day(1967, 5, 16, 0, 0, 0, 0, 2, 136),\n",
       "       cftime.Datetime360Day(1967, 6, 16, 0, 0, 0, 0, 4, 166),\n",
       "       cftime.Datetime360Day(1967, 7, 16, 0, 0, 0, 0, 6, 196),\n",
       "       cftime.Datetime360Day(1967, 8, 16, 0, 0, 0, 0, 1, 226),\n",
       "       cftime.Datetime360Day(1967, 9, 16, 0, 0, 0, 0, 3, 256),\n",
       "       cftime.Datetime360Day(1967, 10, 16, 0, 0, 0, 0, 5, 286),\n",
       "       cftime.Datetime360Day(1967, 11, 16, 0, 0, 0, 0, 0, 316),\n",
       "       cftime.Datetime360Day(1967, 12, 16, 0, 0, 0, 0, 2, 346),\n",
       "       cftime.Datetime360Day(1968, 1, 16, 0, 0, 0, 0, 4, 16),\n",
       "       cftime.Datetime360Day(1968, 2, 16, 0, 0, 0, 0, 6, 46),\n",
       "       cftime.Datetime360Day(1968, 3, 16, 0, 0, 0, 0, 1, 76),\n",
       "       cftime.Datetime360Day(1968, 4, 16, 0, 0, 0, 0, 3, 106),\n",
       "       cftime.Datetime360Day(1968, 5, 16, 0, 0, 0, 0, 5, 136),\n",
       "       cftime.Datetime360Day(1968, 6, 16, 0, 0, 0, 0, 0, 166),\n",
       "       cftime.Datetime360Day(1968, 7, 16, 0, 0, 0, 0, 2, 196),\n",
       "       cftime.Datetime360Day(1968, 8, 16, 0, 0, 0, 0, 4, 226),\n",
       "       cftime.Datetime360Day(1968, 9, 16, 0, 0, 0, 0, 6, 256),\n",
       "       cftime.Datetime360Day(1968, 10, 16, 0, 0, 0, 0, 1, 286),\n",
       "       cftime.Datetime360Day(1968, 11, 16, 0, 0, 0, 0, 3, 316),\n",
       "       cftime.Datetime360Day(1968, 12, 16, 0, 0, 0, 0, 5, 346),\n",
       "       cftime.Datetime360Day(1969, 1, 16, 0, 0, 0, 0, 0, 16),\n",
       "       cftime.Datetime360Day(1969, 2, 16, 0, 0, 0, 0, 2, 46),\n",
       "       cftime.Datetime360Day(1969, 3, 16, 0, 0, 0, 0, 4, 76),\n",
       "       cftime.Datetime360Day(1969, 4, 16, 0, 0, 0, 0, 6, 106),\n",
       "       cftime.Datetime360Day(1969, 5, 16, 0, 0, 0, 0, 1, 136),\n",
       "       cftime.Datetime360Day(1969, 6, 16, 0, 0, 0, 0, 3, 166),\n",
       "       cftime.Datetime360Day(1969, 7, 16, 0, 0, 0, 0, 5, 196),\n",
       "       cftime.Datetime360Day(1969, 8, 16, 0, 0, 0, 0, 0, 226),\n",
       "       cftime.Datetime360Day(1969, 9, 16, 0, 0, 0, 0, 2, 256),\n",
       "       cftime.Datetime360Day(1969, 10, 16, 0, 0, 0, 0, 4, 286),\n",
       "       cftime.Datetime360Day(1969, 11, 16, 0, 0, 0, 0, 6, 316),\n",
       "       cftime.Datetime360Day(1969, 12, 16, 0, 0, 0, 0, 1, 346),\n",
       "       cftime.Datetime360Day(1970, 1, 16, 0, 0, 0, 0, 3, 16),\n",
       "       cftime.Datetime360Day(1970, 2, 16, 0, 0, 0, 0, 5, 46),\n",
       "       cftime.Datetime360Day(1970, 3, 16, 0, 0, 0, 0, 0, 76),\n",
       "       cftime.Datetime360Day(1970, 4, 16, 0, 0, 0, 0, 2, 106),\n",
       "       cftime.Datetime360Day(1970, 5, 16, 0, 0, 0, 0, 4, 136),\n",
       "       cftime.Datetime360Day(1970, 6, 16, 0, 0, 0, 0, 6, 166),\n",
       "       cftime.Datetime360Day(1970, 7, 16, 0, 0, 0, 0, 1, 196),\n",
       "       cftime.Datetime360Day(1970, 8, 16, 0, 0, 0, 0, 3, 226),\n",
       "       cftime.Datetime360Day(1970, 9, 16, 0, 0, 0, 0, 5, 256),\n",
       "       cftime.Datetime360Day(1970, 10, 16, 0, 0, 0, 0, 0, 286),\n",
       "       cftime.Datetime360Day(1970, 11, 16, 0, 0, 0, 0, 2, 316),\n",
       "       cftime.Datetime360Day(1970, 12, 16, 0, 0, 0, 0, 4, 346),\n",
       "       cftime.Datetime360Day(1971, 1, 16, 0, 0, 0, 0, 6, 16),\n",
       "       cftime.Datetime360Day(1971, 2, 16, 0, 0, 0, 0, 1, 46),\n",
       "       cftime.Datetime360Day(1971, 3, 16, 0, 0, 0, 0, 3, 76)],\n",
       "      dtype=object)"
      ]
     },
     "execution_count": 7,
     "metadata": {},
     "output_type": "execute_result"
    }
   ],
   "source": [
    "ds.isel(start_year=0)['time_centered'].values"
   ]
  },
  {
   "cell_type": "markdown",
   "id": "937ce767-7dcd-4f62-a830-cda5a6e9407e",
   "metadata": {},
   "source": [
    "### Testing Doug'method (DCPP 2016 paper)\n",
    "\n",
    "Consider winter seasons DJF in the time period 1970 - 2016. We compute average over these seasonal mean values while retaining the lead year information. For example, for 1st DJF - consider hindcasts 1970 - 2016, for 2nd DJF consider hindcasts 1969- 2015 etc. Compute the mean for all ensembles separately and substract this mean to obtain anomaly trend."
   ]
  },
  {
   "cell_type": "code",
   "execution_count": 18,
   "id": "994e804f-ac9d-4078-a413-b51c1c9c0656",
   "metadata": {},
   "outputs": [],
   "source": [
    "year1, year2 = (int(1980), int(2016))\n",
    "\n",
    "year, lead_year = (1981, 1)\n",
    "\n",
    "ds1 = ds.sel(start_year = year - lead_year).isel(time_counter=slice(1 + 12*lead_year, 4 + 12*lead_year))"
   ]
  },
  {
   "cell_type": "code",
   "execution_count": 2,
   "id": "5e067bdb-cf77-4906-ab35-abf4bed4b26c",
   "metadata": {},
   "outputs": [
    {
     "name": "stdout",
     "output_type": "stream",
     "text": [
      "Data read complete\n"
     ]
    }
   ],
   "source": [
    "ppdir=\"/home/users/hkhatri/DePreSys4_Data/Data_Consolidated/\"\n",
    "\n",
    "save_path=\"/home/users/hkhatri/DePreSys4_Data/Data_Drift_Removal/Drift_2016_DCPP/\"\n",
    "\n",
    "# variable list to keep in the dataset\n",
    "var_list = ['hfbasin_atlantic', 'hfbasinpmdiff_atlantic', 'hfovgyre_atlantic', 'hfovovrt_atlantic', 'sophtadv_atlantic', \n",
    "            'sltbasin_atlantic', 'sltbasinpmdiff_atlantic', 'sltovgyre_atlantic', 'sltovovrt_atlantic', 'sopstadv_atlantic',\n",
    "            'zomsfatl', 'zosalatl','zosrfatl', 'zotematl']\n",
    "\n",
    "ds = []\n",
    "\n",
    "# Loop over year to combine indivual year files\n",
    "for year in range(1960, 2017, 1):\n",
    "    \n",
    "    d = xr.open_dataset(ppdir + str(year) + \"_diaptr.nc\", chunks={'r':1})\n",
    "    d = d.get(var_list)\n",
    "    ds.append(d)\n",
    "    \n",
    "ds = xr.concat(ds, dim='start_year')\n",
    "\n",
    "ds = ds.assign(start_year = np.arange(1960, 2017, 1))\n",
    "\n",
    "ds = ds.chunk({'start_year': 1})\n",
    "\n",
    "print(\"Data read complete\")"
   ]
  },
  {
   "cell_type": "code",
   "execution_count": 3,
   "id": "bd60abd0-d5be-4a08-a135-dea63dda2eb9",
   "metadata": {},
   "outputs": [
    {
     "name": "stdout",
     "output_type": "stream",
     "text": [
      "<xarray.Dataset>\n",
      "Dimensions:                  (deptht: 75, depthw: 75, r: 10, start_year: 57, time_counter: 125, x: 1, y: 451)\n",
      "Coordinates:\n",
      "  * depthw                   (depthw) float32 0.0 1.0239066 ... 5596.249 5800.0\n",
      "    nav_lon                  (y, x) float32 dask.array<shape=(451, 1), chunksize=(451, 1)>\n",
      "    nav_lat                  (y, x) float32 dask.array<shape=(451, 1), chunksize=(451, 1)>\n",
      "  * deptht                   (deptht) float32 0.50576 1.5558553 ... 5902.0576\n",
      "  * time_counter             (time_counter) float64 0.0 0.0 0.0 ... 0.0 0.0 0.0\n",
      "    time_centered            (start_year, time_counter) object dask.array<shape=(57, 125), chunksize=(1, 125)>\n",
      "  * start_year               (start_year) int64 1960 1961 1962 ... 2015 2016\n",
      "Dimensions without coordinates: r, x, y\n",
      "Data variables:\n",
      "    hfbasin_atlantic         (start_year, r, time_counter, y, x) float32 dask.array<shape=(57, 10, 125, 451, 1), chunksize=(1, 1, 125, 451, 1)>\n",
      "    hfbasinpmdiff_atlantic   (start_year, r, time_counter, y, x) float32 dask.array<shape=(57, 10, 125, 451, 1), chunksize=(1, 1, 125, 451, 1)>\n",
      "    hfovgyre_atlantic        (start_year, r, time_counter, y, x) float32 dask.array<shape=(57, 10, 125, 451, 1), chunksize=(1, 1, 125, 451, 1)>\n",
      "    hfovovrt_atlantic        (start_year, r, time_counter, y, x) float32 dask.array<shape=(57, 10, 125, 451, 1), chunksize=(1, 1, 125, 451, 1)>\n",
      "    sophtadv_atlantic        (start_year, r, time_counter, y, x) float32 dask.array<shape=(57, 10, 125, 451, 1), chunksize=(1, 1, 125, 451, 1)>\n",
      "    sltbasin_atlantic        (start_year, r, time_counter, y, x) float32 dask.array<shape=(57, 10, 125, 451, 1), chunksize=(1, 1, 125, 451, 1)>\n",
      "    sltbasinpmdiff_atlantic  (start_year, r, time_counter, y, x) float32 dask.array<shape=(57, 10, 125, 451, 1), chunksize=(1, 1, 125, 451, 1)>\n",
      "    sltovgyre_atlantic       (start_year, r, time_counter, y, x) float32 dask.array<shape=(57, 10, 125, 451, 1), chunksize=(1, 1, 125, 451, 1)>\n",
      "    sltovovrt_atlantic       (start_year, r, time_counter, y, x) float32 dask.array<shape=(57, 10, 125, 451, 1), chunksize=(1, 1, 125, 451, 1)>\n",
      "    sopstadv_atlantic        (start_year, r, time_counter, y, x) float32 dask.array<shape=(57, 10, 125, 451, 1), chunksize=(1, 1, 125, 451, 1)>\n",
      "    zomsfatl                 (start_year, r, time_counter, depthw, y, x) float32 dask.array<shape=(57, 10, 125, 75, 451, 1), chunksize=(1, 1, 125, 75, 451, 1)>\n",
      "    zosalatl                 (start_year, r, time_counter, deptht, y, x) float32 dask.array<shape=(57, 10, 125, 75, 451, 1), chunksize=(1, 1, 125, 75, 451, 1)>\n",
      "    zosrfatl                 (start_year, r, time_counter, deptht, y, x) float32 dask.array<shape=(57, 10, 125, 75, 451, 1), chunksize=(1, 1, 125, 75, 451, 1)>\n",
      "    zotematl                 (start_year, r, time_counter, deptht, y, x) float32 dask.array<shape=(57, 10, 125, 75, 451, 1), chunksize=(1, 1, 125, 75, 451, 1)>\n",
      "Attributes:\n",
      "    name:         av640o_1m_19601101_19601130\n",
      "    description:  processed diagnostics\n",
      "    title:        processed diagnostics\n",
      "    Conventions:  CF-1.5\n",
      "    production:   An IPSL model\n",
      "    timeStamp:    2018-Mar-02 17:40:43 UTC\n",
      "    history:      Mon Oct 11 12:56:39 2021: /opt/moose/moose-netcdf/bin/ncks ...\n",
      "    NCO:          4.4.5\n"
     ]
    }
   ],
   "source": [
    "print(ds)"
   ]
  },
  {
   "cell_type": "code",
   "execution_count": 4,
   "id": "831d5503-7f91-49df-8424-466cc3eaab1c",
   "metadata": {},
   "outputs": [],
   "source": [
    "year1, year2 = (1970, 1980)\n",
    "\n",
    "def processDataset(ds1, year1, year2, lead_year):\n",
    "    \n",
    "    ds_save = []\n",
    "    \n",
    "    for year in range(year1, year2):\n",
    "        \n",
    "        # Extract relevant DJF months data and mean over the season\n",
    "        ds1 = ds.sel(start_year = year - lead_year).isel(time_counter=slice(1 + 12*lead_year, 4 + 12*lead_year)).mean('time_counter')\n",
    "        \n",
    "        ds_save.append(ds1)\n",
    "        \n",
    "    return ds_save"
   ]
  },
  {
   "cell_type": "code",
   "execution_count": 5,
   "id": "10f2df76-6a8d-4ff3-8a52-68995cd9d9b4",
   "metadata": {},
   "outputs": [],
   "source": [
    "from dask import delayed\n",
    "from dask import compute\n",
    "\n",
    "lead_year = 0\n",
    "\n",
    "#ds_save = delayed(processDataset)(ds, year1, year2, lead_year)\n",
    "\n",
    "ds_save = processDataset(ds, year1, year2, lead_year)"
   ]
  },
  {
   "cell_type": "code",
   "execution_count": 18,
   "id": "d19a0f8a-d3bd-41d7-aab3-a10d91216ab7",
   "metadata": {},
   "outputs": [],
   "source": [
    "ds1 = sum(ds_save)"
   ]
  },
  {
   "cell_type": "code",
   "execution_count": 10,
   "id": "d75fdab3-2ce3-4732-8919-57f94ffdfaf9",
   "metadata": {},
   "outputs": [
    {
     "data": {
      "text/plain": [
       "<xarray.Dataset>\n",
       "Dimensions:                  (deptht: 75, depthw: 75, r: 10, x: 1, y: 451)\n",
       "Coordinates:\n",
       "  * deptht                   (deptht) float32 0.50576 1.5558553 ... 5902.0576\n",
       "  * depthw                   (depthw) float32 0.0 1.0239066 ... 5596.249 5800.0\n",
       "    nav_lon                  (y, x) float32 dask.array<shape=(451, 1), chunksize=(451, 1)>\n",
       "    nav_lat                  (y, x) float32 dask.array<shape=(451, 1), chunksize=(451, 1)>\n",
       "Dimensions without coordinates: r, x, y\n",
       "Data variables:\n",
       "    hfbasin_atlantic         (r, y, x) float32 dask.array<shape=(10, 451, 1), chunksize=(1, 451, 1)>\n",
       "    hfbasinpmdiff_atlantic   (r, y, x) float32 dask.array<shape=(10, 451, 1), chunksize=(1, 451, 1)>\n",
       "    hfovgyre_atlantic        (r, y, x) float32 dask.array<shape=(10, 451, 1), chunksize=(1, 451, 1)>\n",
       "    hfovovrt_atlantic        (r, y, x) float32 dask.array<shape=(10, 451, 1), chunksize=(1, 451, 1)>\n",
       "    sophtadv_atlantic        (r, y, x) float32 dask.array<shape=(10, 451, 1), chunksize=(1, 451, 1)>\n",
       "    sltbasin_atlantic        (r, y, x) float32 dask.array<shape=(10, 451, 1), chunksize=(1, 451, 1)>\n",
       "    sltbasinpmdiff_atlantic  (r, y, x) float32 dask.array<shape=(10, 451, 1), chunksize=(1, 451, 1)>\n",
       "    sltovgyre_atlantic       (r, y, x) float32 dask.array<shape=(10, 451, 1), chunksize=(1, 451, 1)>\n",
       "    sltovovrt_atlantic       (r, y, x) float32 dask.array<shape=(10, 451, 1), chunksize=(1, 451, 1)>\n",
       "    sopstadv_atlantic        (r, y, x) float32 dask.array<shape=(10, 451, 1), chunksize=(1, 451, 1)>\n",
       "    zomsfatl                 (r, depthw, y, x) float32 dask.array<shape=(10, 75, 451, 1), chunksize=(1, 75, 451, 1)>\n",
       "    zosalatl                 (r, deptht, y, x) float32 dask.array<shape=(10, 75, 451, 1), chunksize=(1, 75, 451, 1)>\n",
       "    zosrfatl                 (r, deptht, y, x) float32 dask.array<shape=(10, 75, 451, 1), chunksize=(1, 75, 451, 1)>\n",
       "    zotematl                 (r, deptht, y, x) float32 dask.array<shape=(10, 75, 451, 1), chunksize=(1, 75, 451, 1)>"
      ]
     },
     "execution_count": 10,
     "metadata": {},
     "output_type": "execute_result"
    }
   ],
   "source": [
    "ds1"
   ]
  },
  {
   "cell_type": "code",
   "execution_count": 25,
   "id": "cb1eed0a-c04e-4269-9cbb-1492e7bfc8a2",
   "metadata": {},
   "outputs": [
    {
     "data": {
      "text/plain": [
       "'Drift_diaptr_Lead_Year_1.nc'"
      ]
     },
     "execution_count": 25,
     "metadata": {},
     "output_type": "execute_result"
    }
   ],
   "source": [
    "\"Drift_diaptr_Lead_Year_\" + str(int(lead_year+1)) + \".nc\""
   ]
  },
  {
   "cell_type": "code",
   "execution_count": 14,
   "id": "defdbc39-9947-459d-bdce-de006c8fe31f",
   "metadata": {},
   "outputs": [],
   "source": [
    "#ds_save = delayed(sum)(ds_save) / (year2 - year1)\n",
    "\n",
    "tmp = (ds1 / (year2 - year1) ).compute()\n"
   ]
  },
  {
   "cell_type": "code",
   "execution_count": 24,
   "id": "6f93e625-df81-4260-a871-d2d2319f01f3",
   "metadata": {},
   "outputs": [
    {
     "data": {
      "text/plain": [
       "<matplotlib.collections.QuadMesh at 0x7fac39e8d860>"
      ]
     },
     "execution_count": 24,
     "metadata": {},
     "output_type": "execute_result"
    },
    {
     "data": {
      "image/png": "[encoded data removed]",
      "text/plain": [
       "<Figure size 432x288 with 2 Axes>"
      ]
     },
     "metadata": {
      "needs_background": "light"
     },
     "output_type": "display_data"
    }
   ],
   "source": [
    "tmp['zotematl'].isel(x=0, deptht=0).plot()"
   ]
  },
  {
   "cell_type": "markdown",
   "id": "4eb696bc-c557-4d4b-8446-e64b093c05ab",
   "metadata": {},
   "source": [
    "### Testing combining data irrespective of start year"
   ]
  },
  {
   "cell_type": "code",
   "execution_count": 2,
   "id": "6001b47a-11da-4033-af60-258ef81d41b7",
   "metadata": {},
   "outputs": [],
   "source": [
    "ppdir=\"/home/users/hkhatri/DePreSys4_Data/Data_Drift_Removal/Drift_Linear/\"\n",
    "\n",
    "ds = xr.open_dataset(ppdir + \"Drift_diaptr.nc\")\n",
    "\n",
    "ds_lin = xr.open_dataset(ppdir + \"Linear_Trend_diaptr.nc\")"
   ]
  },
  {
   "cell_type": "code",
   "execution_count": 3,
   "id": "74dcc1ab-bcc4-4df7-992b-363b3838f6c6",
   "metadata": {},
   "outputs": [
    {
     "name": "stdout",
     "output_type": "stream",
     "text": [
      "<xarray.Dataset>\n",
      "Dimensions:                  (deptht: 75, depthw: 75, x: 1, y: 451, year: 10)\n",
      "Coordinates:\n",
      "    nav_lon                  (y, x) float32 ...\n",
      "  * deptht                   (deptht) float32 0.50576 1.5558553 ... 5902.0576\n",
      "  * depthw                   (depthw) float32 0.0 1.0239066 ... 5596.249 5800.0\n",
      "  * year                     (year) int64 1 2 3 4 5 6 7 8 9 10\n",
      "    nav_lat                  (y, x) float32 ...\n",
      "Dimensions without coordinates: x, y\n",
      "Data variables:\n",
      "    hfbasin_atlantic         (year, y, x) float32 ...\n",
      "    hfbasinpmdiff_atlantic   (year, y, x) float32 ...\n",
      "    hfovgyre_atlantic        (year, y, x) float32 ...\n",
      "    hfovovrt_atlantic        (year, y, x) float32 ...\n",
      "    sophtadv_atlantic        (year, y, x) float32 ...\n",
      "    sltbasin_atlantic        (year, y, x) float32 ...\n",
      "    sltbasinpmdiff_atlantic  (year, y, x) float32 ...\n",
      "    sltovgyre_atlantic       (year, y, x) float32 ...\n",
      "    sltovovrt_atlantic       (year, y, x) float32 ...\n",
      "    sopstadv_atlantic        (year, y, x) float32 ...\n",
      "    zomsfatl                 (year, depthw, y, x) float32 ...\n",
      "    zosalatl                 (year, deptht, y, x) float32 ...\n",
      "    zosrfatl                 (year, deptht, y, x) float32 ... <xarray.Dataset>\n",
      "Dimensions:                                       (degree: 2, deptht: 75, depthw: 75, x: 1, y: 451, year: 10)\n",
      "Coordinates:\n",
      "  * degree                                        (degree) int64 1 0\n",
      "  * y                                             (y) int64 0 1 2 ... 449 450\n",
      "  * x                                             (x) int64 0\n",
      "  * depthw                                        (depthw) float64 0.0 ... 5.8e+03\n",
      "  * deptht                                        (deptht) float64 0.5058 ... 5.902e+03\n",
      "  * year                                          (year) int64 1 2 3 ... 8 9 10\n",
      "Data variables:\n",
      "    hfbasin_atlantic_polyfit_coefficients         (degree, y, x) float64 ...\n",
      "    hfbasinpmdiff_atlantic_polyfit_coefficients   (degree, y, x) float64 ...\n",
      "    hfovgyre_atlantic_polyfit_coefficients        (degree, y, x) float64 ...\n",
      "    hfovovrt_atlantic_polyfit_coefficients        (degree, y, x) float64 ...\n",
      "    sophtadv_atlantic_polyfit_coefficients        (degree, y, x) float64 ...\n",
      "    sltbasin_atlantic_polyfit_coefficients        (degree, y, x) float64 ...\n",
      "    sltbasinpmdiff_atlantic_polyfit_coefficients  (degree, y, x) float64 ...\n",
      "    sltovgyre_atlantic_polyfit_coefficients       (degree, y, x) float64 ...\n",
      "    sltovovrt_atlantic_polyfit_coefficients       (degree, y, x) float64 ...\n",
      "    sopstadv_atlantic_polyfit_coefficients        (degree, y, x) float64 ...\n",
      "    zomsfatl_polyfit_coefficients                 (degree, depthw, y, x) float64 ...\n",
      "    zosalatl_polyfit_coefficients                 (degree, deptht, y, x) float64 ...\n",
      "    zosrfatl_polyfit_coefficients                 (degree, deptht, y, x) float64 ...\n",
      "    hfbasin_atlantic_trend                        (year, y, x) float64 ...\n",
      "    hfbasinpmdiff_atlantic_trend                  (year, y, x) float64 ...\n",
      "    hfovgyre_atlantic_trend                       (year, y, x) float64 ...\n",
      "    hfovovrt_atlantic_trend                       (year, y, x) float64 ...\n",
      "    sophtadv_atlantic_trend                       (year, y, x) float64 ...\n",
      "    sltbasin_atlantic_trend                       (year, y, x) float64 ...\n",
      "    sltbasinpmdiff_atlantic_trend                 (year, y, x) float64 ...\n",
      "    sltovgyre_atlantic_trend                      (year, y, x) float64 ...\n",
      "    sltovovrt_atlantic_trend                      (year, y, x) float64 ...\n",
      "    sopstadv_atlantic_trend                       (year, y, x) float64 ...\n",
      "    zomsfatl_trend                                (year, depthw, y, x) float64 ...\n",
      "    zosalatl_trend                                (year, deptht, y, x) float64 ...\n",
      "    zosrfatl_trend                                (year, deptht, y, x) float64 ...\n"
     ]
    }
   ],
   "source": [
    "print(ds, ds_lin)"
   ]
  },
  {
   "cell_type": "code",
   "execution_count": 5,
   "id": "17c2f6cb-a712-412e-a90a-8dd634175861",
   "metadata": {},
   "outputs": [
    {
     "data": {
      "text/plain": [
       "[<matplotlib.lines.Line2D at 0x7fe792a23a20>]"
      ]
     },
     "execution_count": 5,
     "metadata": {},
     "output_type": "execute_result"
    },
    {
     "data": {
      "image/png": "[encoded data removed]",
      "text/plain": [
       "<Figure size 1584x432 with 2 Axes>"
      ]
     },
     "metadata": {
      "needs_background": "light"
     },
     "output_type": "display_data"
    }
   ],
   "source": [
    "fig = plt.figure(figsize=[22,6])\n",
    "\n",
    "plt.subplot(1,3,1)\n",
    "plt.plot(np.arange(1,11), ds['hfbasin_atlantic'].isel(y=10,x=0))\n",
    "plt.plot(np.arange(1,11), ds_lin['hfbasin_atlantic_trend'].isel(y=10,x=0))\n",
    "\n",
    "plt.subplot(1,3,2)\n",
    "plt.plot(np.arange(1,11), ds['zomsfatl'].isel(y=50,x=0, depthw=20))\n",
    "plt.plot(np.arange(1,11), ds_lin['zomsfatl_trend'].isel(y=50,x=0, depthw=20))"
   ]
  },
  {
   "cell_type": "markdown",
   "id": "fd7b6799-2d02-4c48-b110-15178bc6222b",
   "metadata": {},
   "source": [
    "### Linear Drift in overturning, heat/salt transports"
   ]
  },
  {
   "cell_type": "code",
   "execution_count": 3,
   "id": "e1c4b429-f0ee-4de0-b909-f9cf14f6254d",
   "metadata": {},
   "outputs": [
    {
     "name": "stdout",
     "output_type": "stream",
     "text": [
      "<xarray.Dataset>\n",
      "Dimensions:                  (deptht: 75, depthw: 75, x: 1, y: 451, year: 10)\n",
      "Coordinates:\n",
      "    nav_lon                  (y, x) float32 ...\n",
      "  * deptht                   (deptht) float32 0.50576 1.5558553 ... 5902.0576\n",
      "  * depthw                   (depthw) float32 0.0 1.0239066 ... 5596.249 5800.0\n",
      "  * year                     (year) int64 1 2 3 4 5 6 7 8 9 10\n",
      "    nav_lat                  (y, x) float32 ...\n",
      "Dimensions without coordinates: x, y\n",
      "Data variables:\n",
      "    hfbasin_atlantic         (year, y, x) float32 ...\n",
      "    hfbasinpmdiff_atlantic   (year, y, x) float32 ...\n",
      "    hfovgyre_atlantic        (year, y, x) float32 ...\n",
      "    hfovovrt_atlantic        (year, y, x) float32 ...\n",
      "    sophtadv_atlantic        (year, y, x) float32 ...\n",
      "    sltbasin_atlantic        (year, y, x) float32 ...\n",
      "    sltbasinpmdiff_atlantic  (year, y, x) float32 ...\n",
      "    sltovgyre_atlantic       (year, y, x) float32 ...\n",
      "    sltovovrt_atlantic       (year, y, x) float32 ...\n",
      "    sopstadv_atlantic        (year, y, x) float32 ...\n",
      "    zomsfatl                 (year, depthw, y, x) float32 ...\n",
      "    zosalatl                 (year, deptht, y, x) float32 ...\n",
      "    zosrfatl                 (year, deptht, y, x) float32 ...\n"
     ]
    }
   ],
   "source": [
    "ppdir=\"/home/users/hkhatri/DePreSys4_Data/Data_Drift_Removal/\"\n",
    "\n",
    "ds = xr.open_dataset(ppdir + 'Drift_diaptr.nc')\n",
    "print(ds)"
   ]
  },
  {
   "cell_type": "code",
   "execution_count": 4,
   "id": "3c7c1cb3-3331-477c-916f-3e59517aa20f",
   "metadata": {},
   "outputs": [
    {
     "data": {
      "text/plain": [
       "[<matplotlib.lines.Line2D at 0x7fb232990a90>]"
      ]
     },
     "execution_count": 4,
     "metadata": {},
     "output_type": "execute_result"
    },
    {
     "data": {
      "image/png": "[encoded data removed]",
      "text/plain": [
       "<Figure size 432x288 with 1 Axes>"
      ]
     },
     "metadata": {
      "needs_background": "light"
     },
     "output_type": "display_data"
    }
   ],
   "source": [
    "ds['hfbasin_atlantic'].isel(x=0,y=200).plot()"
   ]
  },
  {
   "cell_type": "code",
   "execution_count": 5,
   "id": "c97ad489-8eb4-4bb4-ab91-b2834d18b1bc",
   "metadata": {},
   "outputs": [
    {
     "ename": "AttributeError",
     "evalue": "'DataArray' object has no attribute 'polyfit'",
     "output_type": "error",
     "traceback": [
      "\u001b[0;31m---------------------------------------------------------------------------\u001b[0m",
      "\u001b[0;31mAttributeError\u001b[0m                            Traceback (most recent call last)",
      "\u001b[0;32m<ipython-input-5-efe1e7fee22b>\u001b[0m in \u001b[0;36m<module>\u001b[0;34m\u001b[0m\n\u001b[0;32m----> 1\u001b[0;31m \u001b[0mp\u001b[0m \u001b[0;34m=\u001b[0m \u001b[0mds\u001b[0m\u001b[0;34m[\u001b[0m\u001b[0;34m'hfbasin_atlantic'\u001b[0m\u001b[0;34m]\u001b[0m\u001b[0;34m.\u001b[0m\u001b[0misel\u001b[0m\u001b[0;34m(\u001b[0m\u001b[0mx\u001b[0m\u001b[0;34m=\u001b[0m\u001b[0;36m0\u001b[0m\u001b[0;34m)\u001b[0m\u001b[0;34m.\u001b[0m\u001b[0mpolyfit\u001b[0m\u001b[0;34m(\u001b[0m\u001b[0mdim\u001b[0m\u001b[0;34m=\u001b[0m\u001b[0;34m'year'\u001b[0m\u001b[0;34m,\u001b[0m \u001b[0mdeg\u001b[0m\u001b[0;34m=\u001b[0m\u001b[0;36m1\u001b[0m\u001b[0;34m)\u001b[0m\u001b[0;34m\u001b[0m\u001b[0;34m\u001b[0m\u001b[0m\n\u001b[0m",
      "\u001b[0;32m/opt/jaspy/lib/python3.7/site-packages/xarray/core/common.py\u001b[0m in \u001b[0;36m__getattr__\u001b[0;34m(self, name)\u001b[0m\n\u001b[1;32m    179\u001b[0m                     \u001b[0;32mreturn\u001b[0m \u001b[0msource\u001b[0m\u001b[0;34m[\u001b[0m\u001b[0mname\u001b[0m\u001b[0;34m]\u001b[0m\u001b[0;34m\u001b[0m\u001b[0;34m\u001b[0m\u001b[0m\n\u001b[1;32m    180\u001b[0m         raise AttributeError(\"%r object has no attribute %r\" %\n\u001b[0;32m--> 181\u001b[0;31m                              (type(self).__name__, name))\n\u001b[0m\u001b[1;32m    182\u001b[0m \u001b[0;34m\u001b[0m\u001b[0m\n\u001b[1;32m    183\u001b[0m     \u001b[0;32mdef\u001b[0m \u001b[0m__setattr__\u001b[0m\u001b[0;34m(\u001b[0m\u001b[0mself\u001b[0m\u001b[0;34m,\u001b[0m \u001b[0mname\u001b[0m\u001b[0;34m,\u001b[0m \u001b[0mvalue\u001b[0m\u001b[0;34m)\u001b[0m\u001b[0;34m:\u001b[0m\u001b[0;34m\u001b[0m\u001b[0;34m\u001b[0m\u001b[0m\n",
      "\u001b[0;31mAttributeError\u001b[0m: 'DataArray' object has no attribute 'polyfit'"
     ]
    }
   ],
   "source": [
    "p = ds['hfbasin_atlantic'].isel(x=0).polyfit(dim='year', deg=1)"
   ]
  },
  {
   "cell_type": "code",
   "execution_count": 2,
   "id": "b488dae5-86f8-41d6-b8e7-281d9eb80ac2",
   "metadata": {},
   "outputs": [
    {
     "name": "stdout",
     "output_type": "stream",
     "text": [
      "Package                  Version\n",
      "------------------------ ------------\n",
      "alabaster                0.7.12\n",
      "asn1crypto               0.24.0\n",
      "astroid                  2.1.0\n",
      "atomicwrites             1.2.1\n",
      "attrs                    18.2.0\n",
      "Babel                    2.6.0\n",
      "backcall                 0.1.0\n",
      "backports.ssl            0.0.9\n",
      "basemap                  1.2.0\n",
      "beautifulsoup4           4.6.3\n",
      "bokeh                    1.0.2\n",
      "boto3                    1.9.67\n",
      "botocore                 1.12.68\n",
      "bottle                   0.12.13\n",
      "Cartopy                  0.17.0\n",
      "certifi                  2021.5.30\n",
      "cf-units                 2.0.2\n",
      "cffi                     1.11.5\n",
      "cftime                   1.0.3.4\n",
      "chardet                  3.0.4\n",
      "Click                    7.0\n",
      "click-plugins            1.0.4\n",
      "cligj                    0.5.0\n",
      "cloudpickle              0.6.1\n",
      "cryptography             2.3.1\n",
      "cycler                   0.10.0\n",
      "Cython                   0.29.2\n",
      "cytoolz                  0.9.0.1\n",
      "dask                     1.0.0\n",
      "decorator                4.3.0\n",
      "descartes                1.1.0\n",
      "distributed              1.25.1\n",
      "docopt                   0.6.2\n",
      "docutils                 0.14\n",
      "emcee                    2.2.1\n",
      "eofs                     1.3.1\n",
      "f90nml                   1.2\n",
      "fastcache                1.0.2\n",
      "filelock                 3.0.10\n",
      "Fiona                    1.7.13\n",
      "GDAL                     2.2.4\n",
      "geopandas                0.4.0\n",
      "gmpy2                    2.0.8\n",
      "h5py                     2.8.0\n",
      "heapdict                 1.0.0\n",
      "idna                     2.8\n",
      "ImageHash                4.0\n",
      "imagesize                1.1.0\n",
      "ipykernel                5.5.5\n",
      "ipython                  7.2.0\n",
      "ipython-genutils         0.2.0\n",
      "iris-sample-data         2.1.0\n",
      "isort                    4.3.4\n",
      "jedi                     0.13.2\n",
      "Jinja2                   2.10\n",
      "jmespath                 0.9.3\n",
      "joblib                   0.13.0\n",
      "Jug                      1.6.7\n",
      "jupyter-client           6.1.12\n",
      "jupyter-core             4.7.1\n",
      "kiwisolver               1.0.1\n",
      "latexcodec               1.0.5\n",
      "lazy-object-proxy        1.3.1\n",
      "locket                   0.2.0\n",
      "lxml                     4.2.5\n",
      "Mako                     1.0.7\n",
      "MarkupSafe               1.1.0\n",
      "matplotlib               3.0.2\n",
      "mccabe                   0.6.1\n",
      "MechanicalSoup           0.11.0\n",
      "mo-pack                  0.2.0\n",
      "mock                     2.0.0\n",
      "more-itertools           4.3.0\n",
      "mpi4py                   3.0.0\n",
      "mpmath                   1.1.0\n",
      "msgpack                  0.6.0\n",
      "munch                    2.3.2\n",
      "nappy                    1.1.4\n",
      "nc-time-axis             1.1.0\n",
      "netCDF4                  1.4.2\n",
      "nose                     1.3.7\n",
      "numpy                    1.15.4\n",
      "olefile                  0.46\n",
      "OWSLib                   0.17.0\n",
      "packaging                18.0\n",
      "pandas                   0.23.4\n",
      "parso                    0.3.1\n",
      "partd                    0.3.9\n",
      "patsy                    0.5.1\n",
      "pbr                      4.2.0\n",
      "pep8                     1.7.1\n",
      "pexpect                  4.6.0\n",
      "pickleshare              0.7.5\n",
      "Pillow                   5.3.0\n",
      "pip                      20.3.3\n",
      "pluggy                   0.8.0\n",
      "prompt-toolkit           2.0.7\n",
      "psutil                   5.4.8\n",
      "psycopg2                 2.7.6.1\n",
      "ptyprocess               0.6.0\n",
      "py                       1.7.0\n",
      "pyaml                    18.11.0\n",
      "pyasn1                   0.4.4\n",
      "pybtex                   0.22.0\n",
      "pycairo                  1.18.0\n",
      "pycodestyle              2.4.0\n",
      "pycparser                2.19\n",
      "Pydap                    3.2.2\n",
      "pyepsg                   0.4.0\n",
      "Pygments                 2.3.1\n",
      "pygobject                3.28.3\n",
      "pygpu                    0.7.6\n",
      "pygrib                   2.0.3\n",
      "pyhdf                    0.9.0\n",
      "pykdtree                 1.3.1\n",
      "pyke                     1.1.1\n",
      "pylint                   2.2.2\n",
      "pyOpenSSL                18.0.0\n",
      "pyparsing                2.3.0\n",
      "pyproj                   1.9.5.1\n",
      "PySAL                    1.14.4.post2\n",
      "pyshp                    2.0.0\n",
      "PySocks                  1.6.8\n",
      "pyspharm                 1.0.9\n",
      "pystan                   2.17.1.0\n",
      "pytest                   4.0.2\n",
      "python-dateutil          2.7.5\n",
      "pytz                     2018.7\n",
      "pyugrid                  0.3.1\n",
      "PyWavelets               1.0.1\n",
      "PyYAML                   3.13\n",
      "pyzmq                    17.1.2\n",
      "requests                 2.21.0\n",
      "rpy2                     2.9.4\n",
      "Rtree                    0.8.3\n",
      "s3transfer               0.1.13\n",
      "scikit-learn             0.20.1\n",
      "scipy                    1.1.0\n",
      "scitools-iris            2.2.0\n",
      "setuptools               40.6.3\n",
      "Shapely                  1.6.4.post2\n",
      "simplejson               3.17.2\n",
      "six                      1.12.0\n",
      "snowballstemmer          1.2.1\n",
      "sortedcontainers         2.1.0\n",
      "Sphinx                   1.8.2\n",
      "sphinxcontrib-websupport 1.1.0\n",
      "SQLAlchemy               1.2.15\n",
      "statsmodels              0.9.0\n",
      "sympy                    1.3\n",
      "tblib                    1.3.2\n",
      "Theano                   1.0.3\n",
      "toolz                    0.9.0\n",
      "tornado                  5.1.1\n",
      "tqdm                     4.28.1\n",
      "traitlets                4.3.2\n",
      "tzlocal                  1.5.1\n",
      "urllib3                  1.24.1\n",
      "virtualenv               16.0.0\n",
      "wcwidth                  0.1.7\n",
      "WebOb                    1.8.4\n",
      "wheel                    0.32.3\n",
      "windspharm               0+unknown\n",
      "wrapt                    1.10.11\n",
      "wxPython                 4.0.3\n",
      "xarray                   0.11.0\n",
      "zict                     0.1.3\n"
     ]
    }
   ],
   "source": [
    "!pip list"
   ]
  },
  {
   "cell_type": "code",
   "execution_count": null,
   "id": "47b50b5b-d30e-4803-8d6f-b99e6d46e440",
   "metadata": {},
   "outputs": [],
   "source": []
  }
 ],
 "metadata": {
  "kernelspec": {
   "display_name": "Python 3 + Jaspy",
   "language": "python",
   "name": "jaspy"
  },
  "language_info": {
   "codemirror_mode": {
    "name": "ipython",
    "version": 3
   },
   "file_extension": ".py",
   "mimetype": "text/x-python",
   "name": "python",
   "nbconvert_exporter": "python",
   "pygments_lexer": "ipython3",
   "version": "3.8.12"
  }
 },
 "nbformat": 4,
 "nbformat_minor": 5
}
